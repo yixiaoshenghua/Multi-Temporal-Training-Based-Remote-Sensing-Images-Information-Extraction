{
 "cells": [
  {
   "cell_type": "code",
   "execution_count": 14,
   "metadata": {},
   "outputs": [],
   "source": [
    "import gdal\n",
    "import os\n",
    "import numpy as np\n",
    "import pandas as pd\n",
    "import matplotlib.pyplot as plt\n",
    "import seaborn as sns\n",
    "import cv2\n",
    "from skimage import segmentation\n",
    "import torch\n",
    "import torch.nn as nn\n",
    "import matplotlib.pyplot as plt"
   ]
  },
  {
   "cell_type": "code",
   "execution_count": 2,
   "metadata": {},
   "outputs": [],
   "source": [
    "def normal(data):\n",
    "    return (data-data.mean())/(data.max()+data.min())"
   ]
  },
  {
   "cell_type": "code",
   "execution_count": 9,
   "metadata": {},
   "outputs": [],
   "source": [
    "def getBands(filename):\n",
    "    img = gdal.Open(filename)\n",
    "    bands = []\n",
    "    for i in range(img.RasterCount):\n",
    "        band = img.GetRasterBand(i+1).ReadAsArray().astype(np.float)\n",
    "        bands.append(band)\n",
    "    bands = np.dstack((bands[0],bands[1],bands[2],bands[3]))\n",
    "    return bands"
   ]
  },
  {
   "cell_type": "code",
   "execution_count": 54,
   "metadata": {},
   "outputs": [],
   "source": [
    "path=r\"E:\\project\\images\\researchImage\\HR\\originData\"\n",
    "img1=getBands(os.path.join(path,\"000326.tif\"))\n",
    "img2=getBands(os.path.join(path,\"040121.tif\"))"
   ]
  },
  {
   "cell_type": "code",
   "execution_count": 5,
   "metadata": {},
   "outputs": [],
   "source": [
    "def NDVI(data):\n",
    "    return (data[:,:,3]-data[:,:,2])/(data[:,:,3]+data[:,:,2]+1e-8)\n",
    "def GNDVI(data):\n",
    "    return (data[:,:,3]-data[:,:,2])/(data[:,:,3]+data[:,:,2]+1e-8)"
   ]
  },
  {
   "cell_type": "code",
   "execution_count": 51,
   "metadata": {},
   "outputs": [],
   "source": [
    "class Args(object):\n",
    "    def __init__(self):\n",
    "        #self.input_image_path = path  # image/coral.jpg image/tiger.jpg\n",
    "        self.train_epoch = 64 \n",
    "        self.mod_dim1 = 64  #\n",
    "        self.mod_dim2 = 32\n",
    "\n",
    "        self.min_label_num = 4  # if the label number small than it, break loop\n",
    "        self.max_label_num = 256  # if the label number small than it, start to show result image.\n",
    "\n",
    "class MyNet(nn.Module):\n",
    "    def __init__(self, inp_dim, mod_dim1, mod_dim2):\n",
    "        super(MyNet, self).__init__()\n",
    "\n",
    "        self.seq = nn.Sequential(\n",
    "            \n",
    "            nn.Conv2d(inp_dim, mod_dim1, kernel_size=3, stride=1, padding=1),\n",
    "            nn.BatchNorm2d(mod_dim1),\n",
    "            nn.ReLU(inplace=True),\n",
    "\n",
    "            nn.Conv2d(mod_dim1, mod_dim2, kernel_size=1, stride=1, padding=0),\n",
    "            nn.BatchNorm2d(mod_dim2),\n",
    "            nn.ReLU(inplace=True),\n",
    "\n",
    "            nn.Conv2d(mod_dim2, mod_dim1, kernel_size=3, stride=1, padding=1),\n",
    "            nn.BatchNorm2d(mod_dim1),\n",
    "            nn.ReLU(inplace=True),\n",
    "\n",
    "            nn.Conv2d(mod_dim1, mod_dim2, kernel_size=1, stride=1, padding=0),\n",
    "            nn.BatchNorm2d(mod_dim2),\n",
    "        )\n",
    "\n",
    "    def forward(self, x):\n",
    "        return self.seq(x)\n",
    "\n",
    "\n",
    "def run(image):\n",
    "    args = Args()\n",
    "    torch.cuda.manual_seed_all(1943)\n",
    "    np.random.seed(1943)\n",
    "    \n",
    "    '''segmentation ML'''\n",
    "    seg_map = segmentation.felzenszwalb(image[:,:,:3], scale=32, sigma=0.5, min_size=64)\n",
    "    seg_map = seg_map.flatten()\n",
    "    seg_lab = [np.where(seg_map == u_label)[0]\n",
    "               for u_label in np.unique(seg_map)]\n",
    "\n",
    "    '''train init'''\n",
    "    device = torch.device('cpu')\n",
    "    tensor = image.transpose((2,0,1))\n",
    "    tensor = tensor.astype(np.float32) / image.max()\n",
    "    tensor = tensor[np.newaxis, :, :, :]\n",
    "    tensor = torch.from_numpy(tensor).to(device)\n",
    "    \n",
    "    #维度注意，对应通道数inp_dim\n",
    "    model = MyNet(inp_dim=4, mod_dim1=args.mod_dim1, mod_dim2=args.mod_dim2).to(device)\n",
    "    criterion = torch.nn.CrossEntropyLoss()\n",
    "    optimizer = torch.optim.SGD(model.parameters(), lr=5e-2, momentum=0.9)\n",
    "\n",
    "    image_flatten = image.reshape((-1, 4))\n",
    "    color_avg = np.random.randint(255, size=(args.max_label_num, 3))\n",
    "    show = image\n",
    "\n",
    "    '''train loop'''\n",
    "    model.train()\n",
    "    for batch_idx in range(args.train_epoch):\n",
    "        '''forward'''\n",
    "        optimizer.zero_grad()\n",
    "        output = model(tensor)[0]\n",
    "        output = output.permute(1, 2, 0).view(-1, args.mod_dim2)\n",
    "        target = torch.argmax(output, 1)\n",
    "        im_target = target.data.cpu().numpy()\n",
    "\n",
    "        '''refine'''\n",
    "        for inds in seg_lab:\n",
    "            u_labels, hist = np.unique(im_target[inds], return_counts=True)\n",
    "            im_target[inds] = u_labels[np.argmax(hist)]\n",
    "\n",
    "        '''backward'''\n",
    "        target = torch.from_numpy(im_target)\n",
    "        target = target.to(device)\n",
    "        loss = criterion(output, target)\n",
    "        loss.backward()\n",
    "        optimizer.step()\n",
    "        print(\"%d次:%.2f\"%(batch_idx,loss))\n",
    "    return im_target"
   ]
  },
  {
   "cell_type": "code",
   "execution_count": 48,
   "metadata": {},
   "outputs": [],
   "source": [
    "x1=img1[:256,:256,:]"
   ]
  },
  {
   "cell_type": "code",
   "execution_count": 49,
   "metadata": {},
   "outputs": [],
   "source": [
    "x2=img2[:256,:256,:]"
   ]
  },
  {
   "cell_type": "code",
   "execution_count": 47,
   "metadata": {},
   "outputs": [
    {
     "data": {
      "text/plain": [
       "<matplotlib.image.AxesImage at 0x1b599f8d280>"
      ]
     },
     "execution_count": 47,
     "metadata": {},
     "output_type": "execute_result"
    },
    {
     "data": {
      "image/png": "[encoded data removed]",
      "text/plain": [
       "<Figure size 432x288 with 1 Axes>"
      ]
     },
     "metadata": {
      "needs_background": "light"
     },
     "output_type": "display_data"
    }
   ],
   "source": [
    "im1=run(x1)\n",
    "plt.imshow(im1.reshape(256,256))"
   ]
  },
  {
   "cell_type": "code",
   "execution_count": 52,
   "metadata": {
    "collapsed": true,
    "jupyter": {
     "outputs_hidden": true
    }
   },
   "outputs": [
    {
     "name": "stdout",
     "output_type": "stream",
     "text": [
      "0次:3.20\n",
      "1次:2.80\n",
      "2次:2.66\n",
      "3次:2.54\n",
      "4次:2.41\n",
      "5次:2.30\n",
      "6次:2.19\n",
      "7次:2.10\n",
      "8次:2.01\n",
      "9次:1.93\n",
      "10次:1.85\n",
      "11次:1.78\n",
      "12次:1.70\n",
      "13次:1.64\n",
      "14次:1.57\n",
      "15次:1.52\n",
      "16次:1.46\n",
      "17次:1.41\n",
      "18次:1.35\n",
      "19次:1.30\n",
      "20次:1.25\n",
      "21次:1.21\n",
      "22次:1.17\n",
      "23次:1.13\n",
      "24次:1.10\n",
      "25次:1.06\n",
      "26次:1.02\n",
      "27次:0.99\n",
      "28次:0.96\n",
      "29次:0.93\n",
      "30次:0.90\n",
      "31次:0.88\n",
      "32次:0.86\n",
      "33次:0.84\n",
      "34次:0.82\n",
      "35次:0.79\n",
      "36次:0.77\n",
      "37次:0.75\n",
      "38次:0.73\n",
      "39次:0.72\n",
      "40次:0.70\n",
      "41次:0.69\n",
      "42次:0.68\n",
      "43次:0.67\n",
      "44次:0.66\n",
      "45次:0.64\n",
      "46次:0.63\n",
      "47次:0.62\n",
      "48次:0.61\n",
      "49次:0.59\n",
      "50次:0.58\n",
      "51次:0.57\n",
      "52次:0.56\n",
      "53次:0.56\n",
      "54次:0.55\n",
      "55次:0.55\n",
      "56次:0.54\n",
      "57次:0.53\n",
      "58次:0.52\n",
      "59次:0.52\n",
      "60次:0.51\n",
      "61次:0.51\n",
      "62次:0.50\n",
      "63次:0.50\n"
     ]
    },
    {
     "data": {
      "text/plain": [
       "<matplotlib.image.AxesImage at 0x1b59a051520>"
      ]
     },
     "execution_count": 52,
     "metadata": {},
     "output_type": "execute_result"
    },
    {
     "data": {
      "image/png": "[encoded data removed]",
      "text/plain": [
       "<Figure size 432x288 with 1 Axes>"
      ]
     },
     "metadata": {
      "needs_background": "light"
     },
     "output_type": "display_data"
    }
   ],
   "source": [
    "im2=run(x2)\n",
    "plt.imshow(im2.reshape(256,256))"
   ]
  },
  {
   "cell_type": "code",
   "execution_count": null,
   "metadata": {},
   "outputs": [],
   "source": []
  }
 ],
 "metadata": {
  "kernelspec": {
   "display_name": "Python 3",
   "language": "python",
   "name": "python3"
  },
  "language_info": {
   "codemirror_mode": {
    "name": "ipython",
    "version": 3
   },
   "file_extension": ".py",
   "mimetype": "text/x-python",
   "name": "python",
   "nbconvert_exporter": "python",
   "pygments_lexer": "ipython3",
   "version": "3.8.1"
  }
 },
 "nbformat": 4,
 "nbformat_minor": 4
}
