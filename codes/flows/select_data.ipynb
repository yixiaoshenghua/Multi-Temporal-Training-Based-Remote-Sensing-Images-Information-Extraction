{
 "cells": [
  {
   "cell_type": "code",
   "execution_count": 2,
   "metadata": {},
   "outputs": [],
   "source": [
    "import gdal\n",
    "import os\n",
    "import numpy as np\n",
    "import pandas as pd\n",
    "import matplotlib.pyplot as plt\n",
    "import cv2\n",
    "import seaborn as sns"
   ]
  },
  {
   "cell_type": "code",
   "execution_count": 4,
   "metadata": {
    "jupyter": {
     "source_hidden": true
    }
   },
   "outputs": [],
   "source": [
    "def getBands(filename):\n",
    "    img = gdal.Open(filename)\n",
    "    bands = []\n",
    "    for i in range(img.RasterCount):\n",
    "        band = img.GetRasterBand(i+1).ReadAsArray().astype(np.float)\n",
    "        bands.append(band)\n",
    "    bands = np.dstack((bands[0],bands[1],bands[2],bands[3]))\n",
    "    return bands\n",
    "def maxminNorm(data):\n",
    "    '''\n",
    "    01标准化\n",
    "    '''\n",
    "    data=data.astype(np.float32)\n",
    "    dmax=data.max()\n",
    "    dmin=data.min()\n",
    "    return (data-data.min())/(dmax-dmin)\n",
    "\n",
    "def rgbNorm(data):\n",
    "    '''\n",
    "    01标准化\n",
    "    '''\n",
    "    data=data.astype(np.float32)\n",
    "    dmax=data.max()\n",
    "    dmin=data.min()\n",
    "    dst=(data-data.min())/(dmax-dmin)*255\n",
    "    dst=dst+0.5\n",
    "    return dst.astype(np.uint8)\n",
    "\n",
    "\n",
    "def index(data,ind=\"NDVI\"):\n",
    "    '''\n",
    "    input:原始数据，默认保持影像形状，默认计算NDVI\n",
    "    returns:相应指数\n",
    "    '''\n",
    "    nir=data[:,:,3]\n",
    "    red=data[:,:,2]\n",
    "    grn=data[:,:,1]\n",
    "    blue=data[:,:,0]\n",
    "    if ind==\"NDVI\":# 归一化植被指数 \n",
    "        NDVI=(nir-red)/(nir+red+1e-8)\n",
    "        return NDVI\n",
    "    elif ind==\"NDWI\":# 归一化水体指数\n",
    "        NDWI=(grn-nir)/(grn+nir+1e-8)\n",
    "        return NDWI\n",
    "    elif ind==\"CIg\":# 叶绿素指数-绿边 \n",
    "        CIg=nir/(grn+1e-8)-1\n",
    "        return CIg\n",
    "    elif ind==\"EVI\":# 增强型植被指数 \n",
    "        EVI=2.5*(nir-red)/(nir+ 6*red-7.5*blue+1+1e-8)\n",
    "        return EVI\n",
    "    elif ind==\"GNDVI\":# 绿光归一化差值植被指数\n",
    "        GNDVI = (nir - grn)/(nir + grn+1e-8)\n",
    "        return GNDVI\n",
    "    elif ind==\"MSAVI\":# 修正土壤调节植被指数\n",
    "        MSAVI=0.5*(2*(nir +1)-np.sqrt((2*nir+1)**2-8*(nir-red)))\n",
    "        return MSAVI\n",
    "    elif ind==\"MTVI\":# 修正型三角植被指数\n",
    "        MTVI=1.5*(1.2*(nir-grn)-2.5*(red-grn))/np.sqrt((2*nir+1)**2-(6*nir-5*np.sqrt(red))-0.5)\n",
    "        return MTVI\n",
    "    elif ind==\"SAVI\":# 土壤调节植被指数\n",
    "        L=0.5\n",
    "        SAVI=((nir-red)/(nir+red+L))*(1+L)\n",
    "        return SAVI\n",
    "    elif ind==\"VARI\":# 可视化大气阻抗指数\n",
    "        VARI=(grn-red)/(grn+red-blue+1e-8)\n",
    "        return VARI\n",
    "    \n",
    "def returnLabeldata(data,indexName,df=False,reshape=True,norm=False):\n",
    "    h,w,d=data.shape\n",
    "    dataIdx=np.zeros((data.shape[0],data.shape[1],len(indexName)),dtype=np.float32)\n",
    "    for i,idx in enumerate(indexName):\n",
    "        if norm==True:\n",
    "            dataIdx[:,:,i]=maxminNorm(index(data,ind=idx))\n",
    "        else:\n",
    "            dataIdx[:,:,i]=index(data,ind=idx)\n",
    "    if len(np.unique(np.argwhere(np.isnan(dataIdx))[:,2]))!=0:\n",
    "        print(np.unique(np.argwhere(np.isnan(dataIdx))[:,2]))\n",
    "    if df==True:\n",
    "        res=pd.DataFrame(dataIdx.reshape((h*w,-1)),columns=indexName)\n",
    "    if reshape==True:\n",
    "        res=dataIdx.reshape((h*w,-1))\n",
    "    else:\n",
    "        res=dataIdx\n",
    "    return res\n",
    "\n",
    "def addY(loc,data,nums):#data3维\n",
    "    loc=loc.astype(np.int)\n",
    "    y=np.zeros((sum(nums),1))\n",
    "    s=0\n",
    "    for i,num in enumerate(nums):\n",
    "        y[s:s+num,0]=i\n",
    "    x=np.zeros((sum(nums),data.shape[2]))\n",
    "    for i,yx in enumerate(loc):\n",
    "        x[i,:]=data[yx[1],yx[0],:]\n",
    "    train=np.concatenate((x,y),axis=1)\n",
    "    return train"
   ]
  },
  {
   "cell_type": "code",
   "execution_count": 5,
   "metadata": {},
   "outputs": [],
   "source": [
    "path=r\"E:\\project\\images\\researchImage\\HR\\originData\"\n",
    "#img1=getBands(os.path.join(path,\"000326.tif\"))\n",
    "img2=getBands(os.path.join(path,\"040121.tif\"))\n",
    "img3=getBands(os.path.join(path,\"090618.tif\"))\n",
    "#data1=img1[600:1000,600:1000,:]\n",
    "data2=img2[600:1000,600:1000,:]\n",
    "data3=img3[600:1000,600:1000,:]"
   ]
  },
  {
   "cell_type": "code",
   "execution_count": 6,
   "metadata": {},
   "outputs": [],
   "source": [
    "indexName=[\"NDVI\",\"NDWI\",\"MSAVI\",\"MTVI\",\"VARI\"]"
   ]
  },
  {
   "cell_type": "code",
   "execution_count": 6,
   "metadata": {},
   "outputs": [],
   "source": [
    "labdata1=returnLabeldata(data1)\n",
    "labdata2=returnLabeldata(data2)\n"
   ]
  },
  {
   "cell_type": "code",
   "execution_count": 7,
   "metadata": {},
   "outputs": [],
   "source": [
    "pre1=cv2.imread(r\"E:\\project\\images\\researchImage\\HR\\label\\pre00.tif\",0).astype(np.uint8)\n",
    "pre2=cv2.imread(r\"E:\\project\\images\\researchImage\\HR\\label\\pre04.tif\",0).astype(np.uint8)"
   ]
  },
  {
   "cell_type": "code",
   "execution_count": 8,
   "metadata": {},
   "outputs": [],
   "source": [
    "rgb1=cv2.imread(r\"E:\\project\\images\\researchImage\\HR\\cut\\rgb00.tif\")\n",
    "rgb2=cv2.imread(r\"E:\\project\\images\\researchImage\\HR\\cut\\rgb04.tif\")"
   ]
  },
  {
   "cell_type": "code",
   "execution_count": 10,
   "metadata": {},
   "outputs": [
    {
     "data": {
      "image/png": "[encoded data removed]",
      "text/plain": [
       "<Figure size 432x288 with 1 Axes>"
      ]
     },
     "metadata": {
      "needs_background": "light"
     },
     "output_type": "display_data"
    }
   ],
   "source": [
    "matchLst,mask=generator(pre1,pre2)"
   ]
  },
  {
   "cell_type": "code",
   "execution_count": 36,
   "metadata": {},
   "outputs": [
    {
     "data": {
      "text/plain": [
       "True"
      ]
     },
     "execution_count": 36,
     "metadata": {},
     "output_type": "execute_result"
    }
   ],
   "source": [
    "rgb1mask=getmask(rgb1,mask)\n",
    "rgb2mask=getmask(rgb2,mask)\n",
    "cv2.imwrite(r\"E:\\project\\images\\researchImage\\HR\\cut\\rgb00mask.tif\",rgb1mask)\n",
    "cv2.imwrite(r\"E:\\project\\images\\researchImage\\HR\\cut\\rgb04mask.tif\",rgb2mask)"
   ]
  },
  {
   "cell_type": "code",
   "execution_count": 12,
   "metadata": {},
   "outputs": [],
   "source": [
    "data1norm=maxminNorm(data1)\n",
    "data2norm=maxminNorm(data2)\n",
    "labdata1norm=maxminNorm(labdata1)\n",
    "labdata2norm=maxminNorm(labdata2)\n",
    "data1total=np.concatenate((data1norm,labdata1norm),axis=2)\n",
    "data2total=np.concatenate((data2norm,labdata2norm),axis=2)"
   ]
  },
  {
   "cell_type": "code",
   "execution_count": 45,
   "metadata": {},
   "outputs": [],
   "source": [
    "diff=np.sqrt(np.sum((data1total-data2total)**2,axis=2))\n",
    "size=5\n",
    "for i in range(int(diff.shape[0]/size)):\n",
    "    for j in range(int(diff.shape[1]/size)):\n",
    "        diff[i*size:(i+1)*size,j*size:(j+1)*size]=np.mean(diff[i*size:(i+1)*size,j*size:(j+1)*size])\n",
    "diff=diff*mask\n",
    "unmask=mask.copy()\n",
    "unmask[diff>0.5]=0"
   ]
  },
  {
   "cell_type": "code",
   "execution_count": 48,
   "metadata": {},
   "outputs": [
    {
     "data": {
      "text/plain": [
       "(-0.5, 399.5, 399.5, -0.5)"
      ]
     },
     "execution_count": 48,
     "metadata": {},
     "output_type": "execute_result"
    },
    {
     "data": {
      "image/png": "[encoded data removed]",
      "text/plain": [
       "<Figure size 432x288 with 1 Axes>"
      ]
     },
     "metadata": {
      "needs_background": "light"
     },
     "output_type": "display_data"
    }
   ],
   "source": [
    "plt.imshow(unmask,'gray')\n",
    "plt.axis('off')"
   ]
  },
  {
   "cell_type": "code",
   "execution_count": 60,
   "metadata": {},
   "outputs": [
    {
     "data": {
      "text/plain": [
       "True"
      ]
     },
     "execution_count": 60,
     "metadata": {},
     "output_type": "execute_result"
    }
   ],
   "source": [
    "rgb1unmask=getmask(rgb1,unmask,True)\n",
    "rgb2unmask=getmask(rgb2,unmask,True)\n",
    "cv2.imwrite(r\"E:\\project\\images\\researchImage\\HR\\cut\\rgb00unmask.tif\",rgb1unmask)\n",
    "cv2.imwrite(r\"E:\\project\\images\\researchImage\\HR\\cut\\rgb04unmask.tif\",rgb2unmask)"
   ]
  },
  {
   "cell_type": "code",
   "execution_count": 57,
   "metadata": {},
   "outputs": [
    {
     "data": {
      "text/plain": [
       "True"
      ]
     },
     "execution_count": 57,
     "metadata": {},
     "output_type": "execute_result"
    }
   ],
   "source": [
    "cv2.imwrite(r\"E:\\project\\images\\researchImage\\HR\\label\\unmask.tif\",unmask)"
   ]
  },
  {
   "cell_type": "code",
   "execution_count": null,
   "metadata": {},
   "outputs": [],
   "source": []
  }
 ],
 "metadata": {
  "kernelspec": {
   "display_name": "Python 3",
   "language": "python",
   "name": "python3"
  },
  "language_info": {
   "codemirror_mode": {
    "name": "ipython",
    "version": 3
   },
   "file_extension": ".py",
   "mimetype": "text/x-python",
   "name": "python",
   "nbconvert_exporter": "python",
   "pygments_lexer": "ipython3",
   "version": "3.7.4"
  }
 },
 "nbformat": 4,
 "nbformat_minor": 4
}
