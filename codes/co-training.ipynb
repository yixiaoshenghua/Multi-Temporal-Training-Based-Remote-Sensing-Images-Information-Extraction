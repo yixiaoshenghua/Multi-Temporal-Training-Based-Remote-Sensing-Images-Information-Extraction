{
 "cells": [
  {
   "cell_type": "code",
   "execution_count": 7,
   "metadata": {},
   "outputs": [
    {
     "name": "stdout",
     "output_type": "stream",
     "text": [
      "Logistic CoTraining\n",
      "              precision    recall  f1-score   support\n",
      "\n",
      "           0       0.95      0.94      0.94      3129\n",
      "           1       0.94      0.95      0.94      3121\n",
      "\n",
      "    accuracy                           0.94      6250\n",
      "   macro avg       0.94      0.94      0.94      6250\n",
      "weighted avg       0.94      0.94      0.94      6250\n",
      "\n"
     ]
    }
   ],
   "source": [
    "import os\n",
    "os.chdir(r\"E:/project/codes/sklearn_cotraining-master/sklearn_cotraining\")\n",
    "from sklearn.linear_model import LogisticRegression\n",
    "from sklearn.svm import SVC\n",
    "from sklearn.metrics import classification_report,plot_precision_recall_curve\n",
    "from sklearn.datasets import make_classification\n",
    "from classifiers import CoTrainingClassifier\n",
    "\n",
    "\n",
    "if __name__ == '__main__':\n",
    "\tN_SAMPLES = 25000\n",
    "\tN_FEATURES = 1000\n",
    "\tX, y = make_classification(n_samples=N_SAMPLES, n_features=N_FEATURES)\n",
    "\n",
    "\ty[:N_SAMPLES//2] = -1\n",
    "\n",
    "\tX_test = X[-N_SAMPLES//4:]\n",
    "\ty_test = y[-N_SAMPLES//4:]\n",
    "\n",
    "\tX_labeled = X[N_SAMPLES//2:-N_SAMPLES//4]\n",
    "\ty_labeled = y[N_SAMPLES//2:-N_SAMPLES//4]\n",
    "\n",
    "\ty = y[:-N_SAMPLES//4]\n",
    "\tX = X[:-N_SAMPLES//4]\n",
    "\n",
    "\n",
    "\tX1 = X[:,:N_FEATURES // 2]\n",
    "\tX2 = X[:, N_FEATURES // 2:]\n",
    "\n",
    "\n",
    "\n",
    "\n",
    "# \tprint('Logistic')\n",
    "# \tbase_lr = LogisticRegression()\n",
    "# \tbase_lr.fit(X_labeled, y_labeled)\n",
    "# \ty_pred = base_lr.predict(X_test)\n",
    "# \tplot_precision_recall_curve(base_lr,X_test, y_test)\n",
    "# \tprint(classification_report(y_test, y_pred))\n",
    "\n",
    "\tprint ('Logistic CoTraining')\n",
    "\tlg_co_clf = CoTrainingClassifier(LogisticRegression())\n",
    "\tlg_co_clf.fit(X1, X2, y)\n",
    "\ty_pred = lg_co_clf.predict(X_test[:, :N_FEATURES // 2], X_test[:, N_FEATURES // 2:])\n",
    "# \tplot_precision_recall_curve(lg_co_clf,X_test,y_test)\n",
    "\tprint (classification_report(y_test, y_pred))\n",
    "\n",
    "# \tprint ('SVM')\n",
    "# \tbase_svm = SVC(kernel='linear',probability=True)\n",
    "# \tbase_svm.fit(X_labeled, y_labeled)\n",
    "# \ty_pred = base_lr.predict(X_test)\n",
    "# \tplot_precision_recall_curve(base_svm,X_test, y_test)\n",
    "# \tprint (classification_report(y_test, y_pred))\n",
    "\t\n",
    "# \tprint ('SVM CoTraining')\n",
    "# \tsvm_co_clf = CoTrainingClassifier(SVC(kernel='linear',probability=True), u=N_SAMPLES//10)\n",
    "# \tsvm_co_clf.fit(X1, X2, y)\n",
    "# \ty_pred = svm_co_clf.predict(X_test[:, :N_FEATURES // 2], X_test[:, N_FEATURES // 2:])\n",
    "# \tprint (classification_report(y_test, y_pred))\n",
    "\t\n",
    "\t\n"
   ]
  },
  {
   "cell_type": "code",
   "execution_count": null,
   "metadata": {},
   "outputs": [],
   "source": []
  }
 ],
 "metadata": {
  "kernelspec": {
   "display_name": "Python 3",
   "language": "python",
   "name": "python3"
  },
  "language_info": {
   "codemirror_mode": {
    "name": "ipython",
    "version": 3
   },
   "file_extension": ".py",
   "mimetype": "text/x-python",
   "name": "python",
   "nbconvert_exporter": "python",
   "pygments_lexer": "ipython3",
   "version": "3.8.1"
  }
 },
 "nbformat": 4,
 "nbformat_minor": 4
}
