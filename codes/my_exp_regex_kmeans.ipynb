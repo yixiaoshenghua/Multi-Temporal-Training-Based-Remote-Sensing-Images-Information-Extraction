{
 "cells": [
  {
   "cell_type": "code",
   "execution_count": 43,
   "metadata": {
    "collapsed": true,
    "jupyter": {
     "outputs_hidden": true
    }
   },
   "outputs": [
    {
     "name": "stderr",
     "output_type": "stream",
     "text": [
      "D:\\Python37\\lib\\site-packages\\numpy\\_distributor_init.py:32: UserWarning: loaded more than 1 DLL from .libs:\n",
      "D:\\Python37\\lib\\site-packages\\numpy\\.libs\\libopenblas.PYQHXLVVQ7VESDPUVUADXEVJOBGHJPAY.gfortran-win_amd64.dll\n",
      "D:\\Python37\\lib\\site-packages\\numpy\\.libs\\libopenblas.TXA6YQSD3GCQQC22GEQ54J2UDCXDXHWN.gfortran-win_amd64.dll\n",
      "  stacklevel=1)\n"
     ]
    }
   ],
   "source": [
    "# -*- coding: utf-8 -*-\n",
    "import numpy as np\n",
    "import time\n",
    "import matplotlib.pyplot as plt\n",
    "import cv2\n",
    "import os\n",
    "import pandas as pd\n",
    "from sklearn.cluster import KMeans \n",
    "os.chdir(r\"C:\\Users\\WanShenghua\\Documents\\codes\")"
   ]
  },
  {
   "cell_type": "code",
   "execution_count": 109,
   "metadata": {},
   "outputs": [],
   "source": [
    "def loadDataset(year,area):\n",
    "    img=cv2.imread(r\"E:\\project\\images\\researchImage\\images\\cut\\\\\"+year+\"\\\\\"+area+\".tif\")\n",
    "    imgre=np.reshape(img,(-1,3))\n",
    "    return imgre"
   ]
  },
  {
   "cell_type": "code",
   "execution_count": 110,
   "metadata": {},
   "outputs": [],
   "source": [
    "def zmean(data):\n",
    "    mu=np.mean(data,axis=0,keepdims=True)\n",
    "    std=np.std(data,axis=0,keepdims=True)\n",
    "    return (data-mu)/std"
   ]
  },
  {
   "cell_type": "code",
   "execution_count": 54,
   "metadata": {},
   "outputs": [],
   "source": [
    "def splitC(data,label,k):\n",
    "    data=data.copy().reshape(-1,3)\n",
    "    label=label.reshape(-1,1)\n",
    "    mer=np.concatenate((data,label),axis=1)\n",
    "    c0=mer[mer[:,3]==0][:,:-1]\n",
    "    c1=mer[mer[:,3]==1][:,:-1]\n",
    "    c2=mer[mer[:,3]==2][:,:-1]\n",
    "    c3=mer[mer[:,3]==3][:,:-1]\n",
    "    #c4=mer[mer[:,3]==4][:,:-1]\n",
    "    c=[c0,c1,c2,c3]\n",
    "    mu=np.zeros((k,3))\n",
    "    R=np.zeros((k),dtype=np.float64)\n",
    "    for i in range(k):\n",
    "        mu[i,:]=np.mean(c[i],axis=0)\n",
    "        R[i]=c[i].shape[0]/data.shape[0]\n",
    "    dist=np.zeros(data.shape[0],dtype=np.float64)\n",
    "    for i in range(data.shape[0]):\n",
    "        dist[i]=distance(mer[i,:3],mu[mer[i,3]])\n",
    "    return c,mu,dist,R"
   ]
  },
  {
   "cell_type": "code",
   "execution_count": 55,
   "metadata": {},
   "outputs": [],
   "source": [
    "label=cv2.imread(r\"E:\\project\\images\\researchImage\\images\\cut\\label\\17_7_10.tif\",0)\n",
    "data=cv2.imread(r\"E:\\project\\images\\researchImage\\images\\cut\\15\\7_10.tif\")"
   ]
  },
  {
   "cell_type": "code",
   "execution_count": 56,
   "metadata": {},
   "outputs": [],
   "source": [
    "c,mu,dist,R=splitC(data,label,4)"
   ]
  },
  {
   "cell_type": "code",
   "execution_count": 57,
   "metadata": {},
   "outputs": [],
   "source": [
    "dataReshape=data.reshape((-1,3))"
   ]
  },
  {
   "cell_type": "code",
   "execution_count": 58,
   "metadata": {},
   "outputs": [
    {
     "data": {
      "text/plain": [
       "array([0.41438293, 0.08494568, 0.2820282 , 0.21864319])"
      ]
     },
     "execution_count": 58,
     "metadata": {},
     "output_type": "execute_result"
    }
   ],
   "source": [
    "R"
   ]
  },
  {
   "cell_type": "code",
   "execution_count": 59,
   "metadata": {},
   "outputs": [],
   "source": [
    "# kmeans\n",
    "# 定义距离\n",
    "def distance(nums1,nums2):\n",
    "    return np.sqrt(np.sum((nums1-nums2)**2))\n",
    "# kmeans分类器\n",
    "def kmeans(dataset,k,centroid,dist,Rbefore,m,maxIterationNum=200):\n",
    "    # 2.1 定义相关变量\n",
    "    resultList = []                         # 定义变量存储结果\n",
    "    numSample, dim = dataset.shape\n",
    "    ##print(dataset.shape)\n",
    "    # 存放每一像元的归属类别标签和到该类的距离\n",
    "    clusterAssment = np.zeros((numSample, 2), dtype = np.float64) \n",
    "    clusterFlag = True            # 类别标记，判断迭代是否继续\n",
    "    numIteration = 0                 # 迭代次数\n",
    "    # 2.3 设定初始距离\n",
    "    clusterAssment[:, 1] = dist.reshape((-1,))\n",
    "    r=np.zeros((k),dtype=np.float64)\n",
    "    r=Rbefore\n",
    "    print(\"clusterAssment1:\",clusterAssment)\n",
    "    # 2.4 聚类\n",
    "    while(clusterFlag):\n",
    "        # 2.4.1 复制上一次聚类结果\n",
    "        clusterAssmentBefore = clusterAssment.copy()\n",
    "        rBefore = r.copy() \n",
    "        # 2.4.2 迭代次数判断\n",
    "        numIteration += 1\n",
    "        if(numIteration > maxIterationNum):\n",
    "            break                  # 如果迭代次数超过指定次数，跳出循环\n",
    "        print('第%s次迭代中...' % numIteration)\n",
    "        # 2.4.3 更改循环判别条件为不循环，如果下文条件允许循环则再次更改为True\n",
    "        clusterFlag = False\n",
    "        # 2.4.4 循环聚类\n",
    "        for i in range(numSample):       # 遍历每个像元\n",
    "            # 2.4.4.2 距离计算\n",
    "            disArray=np.zeros((k),dtype=np.float64)\n",
    "            for j in range(k):\n",
    "                # 逐一计算每一像元与各类中心的距离\n",
    "                disArray[j] = distance(dataset[i, :], centroid[j,:])              \n",
    "            # 如果与某一类别中心的距离较小，则判定像元属于该类别\n",
    "            minDist = np.min(disArray)\n",
    "            minIndex = np.argmin(disArray)\n",
    "            # 2.4.4.3 判别\n",
    "            if(clusterAssment[i, 0] != minIndex):  # 改变类中心距离并执行下次迭代\n",
    "                clusterFlag = True\n",
    "                clusterAssment[i, :] = minIndex, minDist ** 2\n",
    "        # 比例计算\n",
    "        sums=dataset.shape[0]\n",
    "        for i in range(1,k):\n",
    "            r[i]=np.sum(clusterAssment[:,0]==i)/sums\n",
    "        # 2.4.5 判断是否收敛,只计数非0类\n",
    "        # print(clusterAssment[clusterAssment[:,0]!=0])\n",
    "        errorAfter = np.sum(clusterAssment[clusterAssment[:,0]!=0][:,1])*(1+np.sum((r-Rbefore)**2))   # 上次迭代损失\n",
    "        errorBefore = np.sum(clusterAssmentBefore[clusterAssmentBefore[:,0]!=0][:, 1])*(1+np.sum((rBefore-Rbefore)**2))   # 本次迭代损失\n",
    "        print(\"errorBefore\",errorBefore)\n",
    "        print(\"errorAfter:\",errorAfter)\n",
    "        if(errorAfter <= errorBefore):                         # 结果发散，舍弃本次\n",
    "            return resultList\n",
    "        # 2.4.6 重新计算类别中心\n",
    "        labelMat = clusterAssment[:, 0]                     # 取出第一列(类别标签)\n",
    "        ##print(labelMat)\n",
    "        for cent in range(k):                               # 针对每个类别重新计算\n",
    "            ##print(labelMat == cent)\n",
    "            temp = dataset[labelMat == cent]                # 分别选取属于每一类的像元\n",
    "            ##print(temp)\n",
    "            centroid[cent, :] = np.mean(temp, axis = 0)     # 计算本类别新的中心\n",
    "        # 2.4.7 将最后一次计算结果添加到结果列表中\n",
    "        resultList.append((centroid.copy(), clusterAssment.copy()))\n",
    "    return resultList"
   ]
  },
  {
   "cell_type": "code",
   "execution_count": 60,
   "metadata": {},
   "outputs": [
    {
     "name": "stdout",
     "output_type": "stream",
     "text": [
      "clusterAssment1: [[ 0.         19.41470401]\n",
      " [ 0.         17.683458  ]\n",
      " [ 0.         24.60912162]\n",
      " ...\n",
      " [ 0.          9.50754806]\n",
      " [ 0.         12.33949569]\n",
      " [ 0.          3.9130103 ]]\n",
      "第1次迭代中...\n",
      "errorBefore 0.0\n",
      "errorAfter: 91020754.71638605\n",
      "第2次迭代中...\n",
      "errorBefore 94192863.84900714\n",
      "errorAfter: 92143279.19016416\n"
     ]
    }
   ],
   "source": [
    "resultList = kmeans(dataReshape, 4, mu,dist,R,10000000,100)"
   ]
  },
  {
   "cell_type": "code",
   "execution_count": 61,
   "metadata": {},
   "outputs": [
    {
     "data": {
      "text/plain": [
       "<matplotlib.image.AxesImage at 0x21b8dcffbe0>"
      ]
     },
     "execution_count": 61,
     "metadata": {},
     "output_type": "execute_result"
    },
    {
     "data": {
      "image/png": "[encoded data removed]",
      "text/plain": [
       "<Figure size 432x288 with 1 Axes>"
      ]
     },
     "metadata": {
      "needs_background": "light"
     },
     "output_type": "display_data"
    }
   ],
   "source": [
    "##第三步：显示结果\n",
    "rows,cols,_=data.shape\n",
    "res = np.zeros((data.shape[0]*data.shape[1]))\n",
    "cmap = [0, 1, 2, 3, 4]      # 定义颜色\n",
    "##print(resultList)              # 取出每次迭代的结果\n",
    "res = resultList[0][-1][:,0].reshape((rows, cols)) \n",
    "cv2.imwrite(r\"E:\\project\\images\\researchImage\\predict\\kmeans15_7_10_norm.tif\",res*50)\n",
    "plt.imshow(res*50)   "
   ]
  },
  {
   "cell_type": "code",
   "execution_count": 62,
   "metadata": {},
   "outputs": [
    {
     "name": "stderr",
     "output_type": "stream",
     "text": [
      "D:\\Python37\\lib\\site-packages\\sklearn\\cluster\\k_means_.py:972: RuntimeWarning: Explicit initial center position passed: performing only one init in k-means instead of n_init=10\n",
      "  return_n_iter=True)\n"
     ]
    },
    {
     "data": {
      "text/plain": [
       "<matplotlib.image.AxesImage at 0x21b8d666128>"
      ]
     },
     "execution_count": 62,
     "metadata": {},
     "output_type": "execute_result"
    },
    {
     "data": {
      "image/png": "[encoded data removed]",
      "text/plain": [
       "<Figure size 432x288 with 1 Axes>"
      ]
     },
     "metadata": {
      "needs_background": "light"
     },
     "output_type": "display_data"
    }
   ],
   "source": [
    "imgre=np.reshape(data,(-1,3))\n",
    "estimator = KMeans(n_clusters=4,init=mu)#构造聚类器\n",
    "estimator.fit(imgre)#聚类\n",
    "label_pred = estimator.labels_ #获取聚类标签\n",
    "centroids = estimator.cluster_centers_ #获取聚类中心\n",
    "inertia = estimator.inertia_ # 获取聚类准则的总和\n",
    "pred=np.reshape(label_pred,(256,256))\n",
    "#plt.subplot(121)\n",
    "cv2.imwrite(r\"E:\\project\\images\\researchImage\\predict\\K_Means15_7_10.tif\",pred)\n",
    "plt.imshow(pred)\n",
    "#plt.subplot(122)\n",
    "#plt.imshow(img)"
   ]
  },
  {
   "cell_type": "code",
   "execution_count": 127,
   "metadata": {},
   "outputs": [
    {
     "data": {
      "text/plain": [
       "array([[  1.        , 710.2103783 ],\n",
       "       [  1.        , 333.89419568],\n",
       "       [  1.        , 225.36772263],\n",
       "       ...,\n",
       "       [  1.        , 166.02345348],\n",
       "       [  1.        , 515.60287262],\n",
       "       [  1.        , 680.12934567]])"
      ]
     },
     "execution_count": 127,
     "metadata": {},
     "output_type": "execute_result"
    }
   ],
   "source": [
    "resultList[0][-1]"
   ]
  },
  {
   "cell_type": "code",
   "execution_count": 1,
   "metadata": {},
   "outputs": [],
   "source": [
    "class unionfindset:\n",
    "    def __init__(self,size):\n",
    "        self.father=[[-1,1]]*size\n",
    "    def cfind(self,x):\n",
    "        if self.father[x][0]==-1:\n",
    "            return x\n",
    "        else:\n",
    "            f=self.cfind(self.father[x][0])\n",
    "            self.father[x][0]=f\n",
    "            return f\n",
    "    def wUnion(self,x,y):\n",
    "        fax=self.cfind(x)\n",
    "        fay=self.cfind(y)\n",
    "        if fax==fay:\n",
    "            return False\n",
    "        else:\n",
    "            if father[fax][1]<father[fay][1]:\n",
    "                self.father[fax][0]=fay\n",
    "            else:\n",
    "                self.father[fay][0]=fax"
   ]
  },
  {
   "cell_type": "code",
   "execution_count": 15,
   "metadata": {},
   "outputs": [
    {
     "name": "stdin",
     "output_type": "stream",
     "text": [
      " 1,1,1,2,2,3;2\n"
     ]
    }
   ],
   "source": [
    "nums,n=input().split(';')\n",
    "lst=list(map(int,nums.split(',')))\n",
    "n=int(n)"
   ]
  },
  {
   "cell_type": "code",
   "execution_count": 17,
   "metadata": {},
   "outputs": [
    {
     "data": {
      "text/plain": [
       "[[0, 0], [0, 0], [0, 0]]"
      ]
     },
     "execution_count": 17,
     "metadata": {},
     "output_type": "execute_result"
    }
   ],
   "source": [
    "s=unionfindset(size)\n",
    "for i in nums:\n",
    "    s.father[i][0]=s.cfind(i)"
   ]
  },
  {
   "cell_type": "code",
   "execution_count": null,
   "metadata": {},
   "outputs": [],
   "source": []
  }
 ],
 "metadata": {
  "kernelspec": {
   "display_name": "Python 3",
   "language": "python",
   "name": "python3"
  },
  "language_info": {
   "codemirror_mode": {
    "name": "ipython",
    "version": 3
   },
   "file_extension": ".py",
   "mimetype": "text/x-python",
   "name": "python",
   "nbconvert_exporter": "python",
   "pygments_lexer": "ipython3",
   "version": "3.8.1"
  }
 },
 "nbformat": 4,
 "nbformat_minor": 4
}
