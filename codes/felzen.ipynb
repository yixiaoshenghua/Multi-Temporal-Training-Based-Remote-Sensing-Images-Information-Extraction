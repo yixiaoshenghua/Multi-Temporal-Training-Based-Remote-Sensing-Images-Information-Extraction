{
 "cells": [
  {
   "cell_type": "code",
   "execution_count": 13,
   "metadata": {},
   "outputs": [],
   "source": [
    "#coding=utf-8\n",
    "import gdal\n",
    "import matplotlib.pyplot as plt\n",
    "import numpy as np  \n",
    "from sklearn.metrics import confusion_matrix,plot_confusion_matrix,f1_score\n",
    "from sklearn.model_selection import train_test_split\n",
    "from sklearn import tree, svm, naive_bayes,neighbors\n",
    "from sklearn.ensemble import BaggingClassifier, AdaBoostClassifier, RandomForestClassifier,  GradientBoostingClassifier\n",
    "from keras import models\n",
    "import cv2\n",
    "import os\n",
    "from skimage import io as sio\n",
    "from skimage.segmentation import felzenszwalb\n",
    "from mylib import *"
   ]
  },
  {
   "cell_type": "code",
   "execution_count": 18,
   "metadata": {},
   "outputs": [],
   "source": [
    "def felzenszwalb_test(img,sigma,kernel,k, min_size):\n",
    "    # 先使用纹理特征滤波，再计算距离\n",
    "    img = maxminNorm(img)\n",
    "\n",
    "    # rescale scale to behave like in reference implementation\n",
    "    k = float(k) / 255.\n",
    "    img = cv2.GaussianBlur(img, (kernel, kernel), sigma)\n",
    "    height, width = img.shape[:2]\n",
    "    num = height * width\n",
    "    edges = np.zeros(((height - 1) * width * 2 + height * (width - 1) * 2, 3))\n",
    "\n",
    "    # 使用RGB距离，计算四邻域\n",
    "    index = np.array([i for i in range(height * width)])\n",
    "    index = index.reshape((height, width))\n",
    "    to_left = np.sqrt(((img[:, 1:] - img[:, :-1]) ** 2).sum(axis=2))\n",
    "    to_right = to_left\n",
    "    to_up = np.sqrt(((img[1:] - img[:-1]) ** 2).sum(axis=2))\n",
    "    to_down = to_up\n",
    "\n",
    "\n",
    "    last, cur = 0, 0\n",
    "    last, cur = cur, cur + (width - 1) * height\n",
    "    edges[last: cur, 0] = index[:, 1:].reshape(-1)\n",
    "    edges[last: cur, 1] = index[:, :-1].reshape(-1)\n",
    "    edges[last: cur, 2] = to_left.reshape(-1)\n",
    "\n",
    "    last, cur = cur, cur + (width - 1) * height\n",
    "    edges[last: cur, 0] = index[:, :-1].reshape(-1)\n",
    "    edges[last: cur, 1] = index[:, 1:].reshape(-1)\n",
    "    edges[last: cur, 2] = to_right.reshape(-1)\n",
    "\n",
    "    last, cur = cur, cur + (height - 1) * width\n",
    "    edges[last: cur, 0] = index[1:].reshape(-1)\n",
    "    edges[last: cur, 1] = index[:-1].reshape(-1)\n",
    "    edges[last: cur, 2] = to_up.reshape(-1)\n",
    "\n",
    "    last, cur = cur, cur + (height - 1) * width\n",
    "    edges[last: cur, 0] = index[:-1].reshape(-1)\n",
    "    edges[last: cur, 1] = index[1:].reshape(-1)\n",
    "    edges[last: cur, 2] = to_down.reshape(-1)\n",
    "\n",
    "    # 将边按照不相似度从小到大排序\n",
    "    edges = [edges[i] for i in range(edges.shape[0])]\n",
    "    edges.sort(key=lambda x: x[2])\n",
    "\n",
    "    # 构建无向图（树）\n",
    "    class universe(object):\n",
    "        def __init__(self, n, k):\n",
    "            self.f = np.array([i for i in range(n)])  # 树\n",
    "            self.r = np.zeros_like(self.f)   # root\n",
    "            self.s = np.ones((n))  # 存储像素点的个数\n",
    "            self.t = np.ones((n)) * k  # 存储不相似度\n",
    "            self.k = k\n",
    "\n",
    "        def find(self, x):    # Find root of node x\n",
    "            if x == self.f[x]:\n",
    "                return x\n",
    "            return self.find(self.f[x])\n",
    "\n",
    "        def join(self, a, b):  # Join two trees containing nodes n and m\n",
    "            if self.r[a] > self.r[b]:\n",
    "                self.f[b] = a\n",
    "                self.s[a] += self.s[b]\n",
    "            else:\n",
    "                self.f[a] = b\n",
    "                self.s[b] += self.s[a]\n",
    "                if self.r[a] == self.r[b]:\n",
    "                    self.r[b] += 1\n",
    "\n",
    "    u = universe(num, k)\n",
    "    for edge in edges:\n",
    "        a, b = u.find(int(edge[0])), u.find(int(edge[1]))\n",
    "        if ((a != b) and (edge[2] <= min(u.t[a], u.t[b]))):\n",
    "            # 更新类标号：将的类a,b标号统一为的标号a。更新该类的不相似度阈值为：k / (u.s[a]+u.s[b])\n",
    "            u.join(a, b)\n",
    "            a = u.find(a)\n",
    "            u.t[a] = edge[2] + k / u.s[a]\n",
    "\n",
    "    for edge in edges:\n",
    "        a, b = u.find(int(edge[0])), u.find(int(edge[1]))\n",
    "        if ((a != b) and ((u.s[a] < min_size) or u.s[b] < min_size)):\n",
    "            # 分割后会有很多小区域，当区域像素点的个数小于min_size时，选择与其差异最小的区域合并\n",
    "            u.join(a, b)\n",
    "\n",
    "    dst = np.zeros_like((img.shape[0],img.shape[1],3))\n",
    "\n",
    "    def locate(index):\n",
    "        return index // width, index % width\n",
    "\n",
    "    avg_color = np.zeros((num, 3))\n",
    "\n",
    "    for i in range(num):\n",
    "        f = u.find(i)\n",
    "        x, y = locate(i)\n",
    "        avg_color[f, :] += img[x, y, :3] / u.s[f]\n",
    "\n",
    "    for i in range(height):\n",
    "        for j in range(width):\n",
    "            f = u.find(i * width + j)\n",
    "            dst[i, j, :] = avg_color[f, :]\n",
    "    return dst\n",
    "\n",
    "\n",
    "# if __name__ == '__main__':\n",
    "#     sigma = 0.5\n",
    "#     kernel = 3\n",
    "#     K, min_size = 500, 50\n",
    "#     image = sio.imread(r\"E:/project/codes/Unsupervised-Segmentation/image/15_12_11.tif\")\n",
    "#     # skimage自带的felzenszwalb算法\n",
    "#     seg1 = felzenszwalb(image, scale=K, sigma=sigma, min_size=min_size)\n",
    "#     # felzenszwalb算法的实现，相比于上一种，区别主要在四邻域和颜色还原\n",
    "#     seg3=felzenszwalb_test(image, sigma, kernel,K, min_size)\n",
    "\n",
    "#     fig = plt.figure(figsize=(24,8))\n",
    "#     a = fig.add_subplot(131)\n",
    "#     plt.imshow(image)\n",
    "#     a.set_title(\"image\")\n",
    "\n",
    "#     a = fig.add_subplot(132)\n",
    "#     plt.imshow(seg1)\n",
    "#     a.set_title(\"seg1\")\n",
    "\n",
    "#     a = fig.add_subplot(133)\n",
    "#     plt.imshow(seg3)\n",
    "#     a.set_title(\"seg3\")\n",
    "#     plt.show()"
   ]
  },
  {
   "cell_type": "code",
   "execution_count": 5,
   "metadata": {},
   "outputs": [],
   "source": [
    "image = sio.imread(r\"E:/project/codes/Unsupervised-Segmentation/image/15_12_11.tif\")"
   ]
  },
  {
   "cell_type": "code",
   "execution_count": 6,
   "metadata": {},
   "outputs": [],
   "source": [
    "image = cv2.GaussianBlur(image, (3, 3), 0.5)"
   ]
  },
  {
   "cell_type": "code",
   "execution_count": 9,
   "metadata": {},
   "outputs": [
    {
     "data": {
      "text/plain": [
       "(255, 256, 3)"
      ]
     },
     "execution_count": 9,
     "metadata": {},
     "output_type": "execute_result"
    }
   ],
   "source": [
    "image[1:].shape"
   ]
  },
  {
   "cell_type": "code",
   "execution_count": 10,
   "metadata": {},
   "outputs": [],
   "source": [
    "# prepare data\n",
    "path=r\"E:\\project\\images\\researchImage\\HR\\originData\"\n",
    "img1=getBands(os.path.join(path,\"000326.tif\"))\n",
    "img2=getBands(os.path.join(path,\"040121.tif\"))\n",
    "data1=img1[600:1000,600:1000,:]\n",
    "data2=img2[600:1000,600:1000,:]\n",
    "indexName=[\"NDVI\",\"NDWI\",\"MSAVI\",\"MTVI\",\"VARI\"]\n",
    "labdata1=returnLabeldata(data1)\n",
    "labdata2=returnLabeldata(data2)\n",
    "data1norm=maxminNorm(data1)\n",
    "data2norm=maxminNorm(data2)\n",
    "labdata1norm=maxminNorm(labdata1)\n",
    "labdata2norm=maxminNorm(labdata2)\n",
    "data1total=np.concatenate((data1norm,labdata1norm),axis=2)\n",
    "data2total=np.concatenate((data2norm,labdata2norm),axis=2)"
   ]
  },
  {
   "cell_type": "code",
   "execution_count": 19,
   "metadata": {},
   "outputs": [
    {
     "ename": "IndexError",
     "evalue": "too many indices for array",
     "output_type": "error",
     "traceback": [
      "\u001b[1;31m---------------------------------------------------------------------------\u001b[0m",
      "\u001b[1;31mIndexError\u001b[0m                                Traceback (most recent call last)",
      "\u001b[1;32m<ipython-input-19-0efb2d296da6>\u001b[0m in \u001b[0;36m<module>\u001b[1;34m\u001b[0m\n\u001b[1;32m----> 1\u001b[1;33m \u001b[0mseg3\u001b[0m\u001b[1;33m=\u001b[0m\u001b[0mfelzenszwalb_test\u001b[0m\u001b[1;33m(\u001b[0m\u001b[0mdata1total\u001b[0m\u001b[1;33m,\u001b[0m \u001b[0msigma\u001b[0m\u001b[1;33m,\u001b[0m \u001b[0mkernel\u001b[0m\u001b[1;33m,\u001b[0m\u001b[0mK\u001b[0m\u001b[1;33m,\u001b[0m \u001b[0mmin_size\u001b[0m\u001b[1;33m)\u001b[0m\u001b[1;33m\u001b[0m\u001b[1;33m\u001b[0m\u001b[0m\n\u001b[0m\u001b[0;32m      2\u001b[0m \u001b[0mplt\u001b[0m\u001b[1;33m.\u001b[0m\u001b[0mimshow\u001b[0m\u001b[1;33m(\u001b[0m\u001b[0mseg3\u001b[0m\u001b[1;33m)\u001b[0m\u001b[1;33m\u001b[0m\u001b[1;33m\u001b[0m\u001b[0m\n",
      "\u001b[1;32m<ipython-input-18-4d5bbe6ac0e9>\u001b[0m in \u001b[0;36mfelzenszwalb_test\u001b[1;34m(img, sigma, kernel, k, min_size)\u001b[0m\n\u001b[0;32m     98\u001b[0m         \u001b[1;32mfor\u001b[0m \u001b[0mj\u001b[0m \u001b[1;32min\u001b[0m \u001b[0mrange\u001b[0m\u001b[1;33m(\u001b[0m\u001b[0mwidth\u001b[0m\u001b[1;33m)\u001b[0m\u001b[1;33m:\u001b[0m\u001b[1;33m\u001b[0m\u001b[1;33m\u001b[0m\u001b[0m\n\u001b[0;32m     99\u001b[0m             \u001b[0mf\u001b[0m \u001b[1;33m=\u001b[0m \u001b[0mu\u001b[0m\u001b[1;33m.\u001b[0m\u001b[0mfind\u001b[0m\u001b[1;33m(\u001b[0m\u001b[0mi\u001b[0m \u001b[1;33m*\u001b[0m \u001b[0mwidth\u001b[0m \u001b[1;33m+\u001b[0m \u001b[0mj\u001b[0m\u001b[1;33m)\u001b[0m\u001b[1;33m\u001b[0m\u001b[1;33m\u001b[0m\u001b[0m\n\u001b[1;32m--> 100\u001b[1;33m             \u001b[0mdst\u001b[0m\u001b[1;33m[\u001b[0m\u001b[0mi\u001b[0m\u001b[1;33m,\u001b[0m \u001b[0mj\u001b[0m\u001b[1;33m,\u001b[0m \u001b[1;33m:\u001b[0m\u001b[1;33m]\u001b[0m \u001b[1;33m=\u001b[0m \u001b[0mavg_color\u001b[0m\u001b[1;33m[\u001b[0m\u001b[0mf\u001b[0m\u001b[1;33m,\u001b[0m \u001b[1;33m:\u001b[0m\u001b[1;33m]\u001b[0m\u001b[1;33m\u001b[0m\u001b[1;33m\u001b[0m\u001b[0m\n\u001b[0m\u001b[0;32m    101\u001b[0m     \u001b[1;32mreturn\u001b[0m \u001b[0mdst\u001b[0m\u001b[1;33m\u001b[0m\u001b[1;33m\u001b[0m\u001b[0m\n\u001b[0;32m    102\u001b[0m \u001b[1;33m\u001b[0m\u001b[0m\n",
      "\u001b[1;31mIndexError\u001b[0m: too many indices for array"
     ]
    }
   ],
   "source": [
    "seg3=felzenszwalb_test(data1total, sigma, kernel,K, min_size)\n",
    "plt.imshow(seg3)"
   ]
  },
  {
   "cell_type": "code",
   "execution_count": null,
   "metadata": {},
   "outputs": [],
   "source": []
  }
 ],
 "metadata": {
  "kernelspec": {
   "display_name": "'Python Interactive'",
   "language": "python",
   "name": "5110b087-2493-4c4b-923a-f91a8704107c"
  },
  "language_info": {
   "codemirror_mode": {
    "name": "ipython",
    "version": 3
   },
   "file_extension": ".py",
   "mimetype": "text/x-python",
   "name": "python",
   "nbconvert_exporter": "python",
   "pygments_lexer": "ipython3",
   "version": "3.7.3"
  }
 },
 "nbformat": 4,
 "nbformat_minor": 4
}
