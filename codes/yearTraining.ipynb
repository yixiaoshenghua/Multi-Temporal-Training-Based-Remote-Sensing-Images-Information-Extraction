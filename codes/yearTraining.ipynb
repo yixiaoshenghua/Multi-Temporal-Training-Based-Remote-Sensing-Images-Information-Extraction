{
 "cells": [
  {
   "cell_type": "code",
   "execution_count": 1,
   "metadata": {
    "collapsed": true,
    "jupyter": {
     "outputs_hidden": true
    }
   },
   "outputs": [
    {
     "name": "stderr",
     "output_type": "stream",
     "text": [
      "D:\\Python37\\lib\\site-packages\\numpy\\_distributor_init.py:32: UserWarning: loaded more than 1 DLL from .libs:\n",
      "D:\\Python37\\lib\\site-packages\\numpy\\.libs\\libopenblas.PYQHXLVVQ7VESDPUVUADXEVJOBGHJPAY.gfortran-win_amd64.dll\n",
      "D:\\Python37\\lib\\site-packages\\numpy\\.libs\\libopenblas.TXA6YQSD3GCQQC22GEQ54J2UDCXDXHWN.gfortran-win_amd64.dll\n",
      "  stacklevel=1)\n",
      "Using TensorFlow backend.\n",
      "D:\\Python37\\lib\\site-packages\\tensorflow\\python\\framework\\dtypes.py:516: FutureWarning: Passing (type, 1) or '1type' as a synonym of type is deprecated; in a future version of numpy, it will be understood as (type, (1,)) / '(1,)type'.\n",
      "  _np_qint8 = np.dtype([(\"qint8\", np.int8, 1)])\n",
      "D:\\Python37\\lib\\site-packages\\tensorflow\\python\\framework\\dtypes.py:517: FutureWarning: Passing (type, 1) or '1type' as a synonym of type is deprecated; in a future version of numpy, it will be understood as (type, (1,)) / '(1,)type'.\n",
      "  _np_quint8 = np.dtype([(\"quint8\", np.uint8, 1)])\n",
      "D:\\Python37\\lib\\site-packages\\tensorflow\\python\\framework\\dtypes.py:518: FutureWarning: Passing (type, 1) or '1type' as a synonym of type is deprecated; in a future version of numpy, it will be understood as (type, (1,)) / '(1,)type'.\n",
      "  _np_qint16 = np.dtype([(\"qint16\", np.int16, 1)])\n",
      "D:\\Python37\\lib\\site-packages\\tensorflow\\python\\framework\\dtypes.py:519: FutureWarning: Passing (type, 1) or '1type' as a synonym of type is deprecated; in a future version of numpy, it will be understood as (type, (1,)) / '(1,)type'.\n",
      "  _np_quint16 = np.dtype([(\"quint16\", np.uint16, 1)])\n",
      "D:\\Python37\\lib\\site-packages\\tensorflow\\python\\framework\\dtypes.py:520: FutureWarning: Passing (type, 1) or '1type' as a synonym of type is deprecated; in a future version of numpy, it will be understood as (type, (1,)) / '(1,)type'.\n",
      "  _np_qint32 = np.dtype([(\"qint32\", np.int32, 1)])\n",
      "D:\\Python37\\lib\\site-packages\\tensorflow\\python\\framework\\dtypes.py:525: FutureWarning: Passing (type, 1) or '1type' as a synonym of type is deprecated; in a future version of numpy, it will be understood as (type, (1,)) / '(1,)type'.\n",
      "  np_resource = np.dtype([(\"resource\", np.ubyte, 1)])\n",
      "D:\\Python37\\lib\\site-packages\\tensorboard\\compat\\tensorflow_stub\\dtypes.py:541: FutureWarning: Passing (type, 1) or '1type' as a synonym of type is deprecated; in a future version of numpy, it will be understood as (type, (1,)) / '(1,)type'.\n",
      "  _np_qint8 = np.dtype([(\"qint8\", np.int8, 1)])\n",
      "D:\\Python37\\lib\\site-packages\\tensorboard\\compat\\tensorflow_stub\\dtypes.py:542: FutureWarning: Passing (type, 1) or '1type' as a synonym of type is deprecated; in a future version of numpy, it will be understood as (type, (1,)) / '(1,)type'.\n",
      "  _np_quint8 = np.dtype([(\"quint8\", np.uint8, 1)])\n",
      "D:\\Python37\\lib\\site-packages\\tensorboard\\compat\\tensorflow_stub\\dtypes.py:543: FutureWarning: Passing (type, 1) or '1type' as a synonym of type is deprecated; in a future version of numpy, it will be understood as (type, (1,)) / '(1,)type'.\n",
      "  _np_qint16 = np.dtype([(\"qint16\", np.int16, 1)])\n",
      "D:\\Python37\\lib\\site-packages\\tensorboard\\compat\\tensorflow_stub\\dtypes.py:544: FutureWarning: Passing (type, 1) or '1type' as a synonym of type is deprecated; in a future version of numpy, it will be understood as (type, (1,)) / '(1,)type'.\n",
      "  _np_quint16 = np.dtype([(\"quint16\", np.uint16, 1)])\n",
      "D:\\Python37\\lib\\site-packages\\tensorboard\\compat\\tensorflow_stub\\dtypes.py:545: FutureWarning: Passing (type, 1) or '1type' as a synonym of type is deprecated; in a future version of numpy, it will be understood as (type, (1,)) / '(1,)type'.\n",
      "  _np_qint32 = np.dtype([(\"qint32\", np.int32, 1)])\n",
      "D:\\Python37\\lib\\site-packages\\tensorboard\\compat\\tensorflow_stub\\dtypes.py:550: FutureWarning: Passing (type, 1) or '1type' as a synonym of type is deprecated; in a future version of numpy, it will be understood as (type, (1,)) / '(1,)type'.\n",
      "  np_resource = np.dtype([(\"resource\", np.ubyte, 1)])\n"
     ]
    }
   ],
   "source": [
    "#coding=utf-8\n",
    "import matplotlib.pyplot as plt\n",
    "import numpy as np  \n",
    "from sklearn.model_selection import train_test_split\n",
    "import keras\n",
    "from keras import models\n",
    "from keras.models import Sequential  \n",
    "from keras.layers import *  \n",
    "from keras.utils.np_utils import to_categorical  \n",
    "from keras.models import Model\n",
    "import cv2\n",
    "import os\n",
    "import gdal\n",
    "import tensorflow as tf\n",
    "from sklearn import tree, svm, naive_bayes,neighbors\n",
    "from sklearn.ensemble import BaggingClassifier, AdaBoostClassifier, RandomForestClassifier,  GradientBoostingClassifier"
   ]
  },
  {
   "cell_type": "code",
   "execution_count": 2,
   "metadata": {},
   "outputs": [],
   "source": [
    "filepath = r\"E:\\project\\images\\researchImage\\resize\"\n",
    "os.chdir(filepath)\n",
    "# read the images\n",
    "def readimg(name):\n",
    "    img = gdal.Open(os.path.join(filepath, name))\n",
    "    img_b = img.GetRasterBand(1).ReadAsArray()\n",
    "    img_g = img.GetRasterBand(2).ReadAsArray()\n",
    "    img_r = img.GetRasterBand(3).ReadAsArray()\n",
    "    img_n = img.GetRasterBand(4).ReadAsArray()\n",
    "    img = np.dstack((img_b,img_g,img_r,img_n))\n",
    "    print(img.shape)\n",
    "    width=img.shape[0]\n",
    "    height=img.shape[1]\n",
    "    img.resize((img.shape[0]*img.shape[1],4))\n",
    "    return img,width,height"
   ]
  },
  {
   "cell_type": "code",
   "execution_count": 12,
   "metadata": {},
   "outputs": [
    {
     "name": "stdout",
     "output_type": "stream",
     "text": [
      "(1342, 1358, 4)\n",
      "(1342, 1358, 4)\n",
      "(1342, 1358, 4)\n",
      "(1241, 1474, 4)\n"
     ]
    }
   ],
   "source": [
    "img1,w1,h1=readimg(\"000326.tif\")\n",
    "img1=img1[100000:101000,:]\n",
    "img2,w2,h2=readimg(\"040121.tif\")\n",
    "img2=img2[100000:101000,:]\n",
    "img3,w3,h3=readimg(\"090618.tif\")\n",
    "img3=img3[100000:101000,:]\n",
    "img4,w4,h4=readimg(\"181218.tif\")\n",
    "img4=img4[100000:101000,:]"
   ]
  },
  {
   "cell_type": "code",
   "execution_count": 13,
   "metadata": {},
   "outputs": [],
   "source": [
    "def gendata(data,rate,num_0,num_1,num_2,num_3):\n",
    "    X = data[:,:]\n",
    "    label_0=np.zeros((num_0))\n",
    "    label_1=np.ones((num_1))\n",
    "    label_2=np.ones((num_2))+1\n",
    "    label_3=np.ones((num_3))+2\n",
    "    labels=np.concatenate((label_0,label_1,label_2,label_3),axis=0)\n",
    "    labels=labels.reshape(labels.shape[0],1)\n",
    "    train_dataset=np.concatenate((X,labels),axis=1)\n",
    "    np.random.shuffle(train_dataset)\n",
    "    train_dataset=train_dataset[:,:]\n",
    "    #split train_data and test_data\n",
    "    X=train_dataset[:,:4]\n",
    "    labels=train_dataset[:,-1:]\n",
    "    X_train, X_test, y_train, y_test = train_test_split(X, labels, test_size=rate)\n",
    "    print(\"X_train shape:\",X_train.shape)\n",
    "    print(\"X_test shape:\",X_test.shape)\n",
    "    print(\"y_train shape:\",y_train.shape)\n",
    "    print(\"y_test shape:\",y_test.shape)\n",
    "    return X_train,X_test,y_train,y_test\n",
    "clfs = {\n",
    "         'decision_tree':tree.DecisionTreeClassifier(),\n",
    "         #'naive_gaussian': naive_bayes.GaussianNB(),\n",
    "         #'naive_mul':naive_bayes.MultinomialNB(),\n",
    "         'K_neighbor' : neighbors.KNeighborsClassifier(),\n",
    "         'bagging_knn' : BaggingClassifier(neighbors.KNeighborsClassifier(), max_samples=0.5,max_features=0.5),\n",
    "         'bagging_tree': BaggingClassifier(tree.DecisionTreeClassifier(), max_samples=0.5,max_features=0.5),\n",
    "         'random_forest' : RandomForestClassifier(n_estimators=50),\n",
    "         'gradient_boost' : GradientBoostingClassifier(n_estimators=50, learning_rate=1.0,max_depth=1, random_state=0)\n",
    "       }\n",
    "\n",
    "def try_different_method(clf,X_train,X_test,y_train,y_test):\n",
    "    clf.fit(X_train,y_train.ravel())\n",
    "    score = clf.score(X_test,y_test.ravel())\n",
    "    print('the score is :', score)"
   ]
  },
  {
   "cell_type": "code",
   "execution_count": 14,
   "metadata": {},
   "outputs": [
    {
     "name": "stdout",
     "output_type": "stream",
     "text": [
      "X_train shape: (3200, 4)\n",
      "X_test shape: (800, 4)\n",
      "y_train shape: (3200, 1)\n",
      "y_test shape: (800, 1)\n"
     ]
    }
   ],
   "source": [
    "data=np.concatenate((img1,img2,img3,img4),axis=0)\n",
    "X_train,X_test,y_train,y_test=gendata(data,0.2,1000,1000,1000,1000)"
   ]
  },
  {
   "cell_type": "code",
   "execution_count": 15,
   "metadata": {},
   "outputs": [
    {
     "name": "stdout",
     "output_type": "stream",
     "text": [
      "the classifier is : decision_tree\n",
      "the score is : 0.93875\n",
      "the classifier is : K_neighbor\n",
      "the score is : 0.94625\n",
      "the classifier is : bagging_knn\n",
      "the score is : 0.86\n",
      "the classifier is : bagging_tree\n",
      "the score is : 0.8525\n",
      "the classifier is : random_forest\n",
      "the score is : 0.95875\n",
      "the classifier is : gradient_boost\n",
      "the score is : 0.9325\n"
     ]
    }
   ],
   "source": [
    "for clf_key in clfs.keys():\n",
    "    print('the classifier is :',clf_key)\n",
    "    clf = clfs[clf_key]\n",
    "    try_different_method(clf,X_train,X_test,y_train,y_test)"
   ]
  },
  {
   "cell_type": "code",
   "execution_count": null,
   "metadata": {},
   "outputs": [],
   "source": []
  }
 ],
 "metadata": {
  "kernelspec": {
   "display_name": "'Python Interactive'",
   "language": "python",
   "name": "5110b087-2493-4c4b-923a-f91a8704107c"
  },
  "language_info": {
   "codemirror_mode": {
    "name": "ipython",
    "version": 3
   },
   "file_extension": ".py",
   "mimetype": "text/x-python",
   "name": "python",
   "nbconvert_exporter": "python",
   "pygments_lexer": "ipython3",
   "version": "3.7.3"
  }
 },
 "nbformat": 4,
 "nbformat_minor": 4
}
