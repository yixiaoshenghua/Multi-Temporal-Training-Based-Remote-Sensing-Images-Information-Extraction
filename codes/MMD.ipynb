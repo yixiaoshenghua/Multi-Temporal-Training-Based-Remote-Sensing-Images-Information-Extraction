{
 "cells": [
  {
   "cell_type": "code",
   "execution_count": 1,
   "metadata": {
    "collapsed": true,
    "jupyter": {
     "outputs_hidden": true
    }
   },
   "outputs": [
    {
     "name": "stderr",
     "output_type": "stream",
     "text": [
      "D:\\Python37\\lib\\site-packages\\numpy\\_distributor_init.py:32: UserWarning: loaded more than 1 DLL from .libs:\n",
      "D:\\Python37\\lib\\site-packages\\numpy\\.libs\\libopenblas.PYQHXLVVQ7VESDPUVUADXEVJOBGHJPAY.gfortran-win_amd64.dll\n",
      "D:\\Python37\\lib\\site-packages\\numpy\\.libs\\libopenblas.TXA6YQSD3GCQQC22GEQ54J2UDCXDXHWN.gfortran-win_amd64.dll\n",
      "  stacklevel=1)\n"
     ]
    }
   ],
   "source": [
    "import numpy as np\n",
    "import matplotlib.pyplot as plt\n",
    "import gdal\n",
    "import os\n",
    "import cv2"
   ]
  },
  {
   "cell_type": "code",
   "execution_count": 2,
   "metadata": {},
   "outputs": [],
   "source": [
    "# 读取数据\n",
    "def readimg(name):\n",
    "    img = gdal.Open(os.path.join(filepath, name))\n",
    "    img_b = img.GetRasterBand(1).ReadAsArray()\n",
    "    img_g = img.GetRasterBand(2).ReadAsArray()\n",
    "    img_r = img.GetRasterBand(3).ReadAsArray()\n",
    "    img_n = img.GetRasterBand(4).ReadAsArray()\n",
    "    img = np.dstack((img_b,img_g,img_r,img_n))\n",
    "    print(img.shape)\n",
    "    width=img.shape[0]\n",
    "    height=img.shape[1]\n",
    "    img.resize((img.shape[0]*img.shape[1],4))\n",
    "    return img\n",
    "def writeimg(name):\n",
    "    img = gdal.Open(os.path.join(filepath, name))\n",
    "    img_b = img.GetRasterBand(1).ReadAsArray()\n",
    "    img_g = img.GetRasterBand(2).ReadAsArray()\n",
    "    img_r = img.GetRasterBand(3).ReadAsArray()\n",
    "    img = np.dstack((img_b,img_g,img_r))\n",
    "    cv2.imwrite(r\"E:\\project\\images\\researchImage\\images\\\\\"+name,img)"
   ]
  },
  {
   "cell_type": "code",
   "execution_count": 32,
   "metadata": {},
   "outputs": [],
   "source": [
    "# 数据分布可视化\n",
    "def plotDist(data,name='',range=None):\n",
    "    plt.hist(data[:,2], bins=256, facecolor='r', edgecolor='r', alpha=0.2)#bins=256\n",
    "    plt.hist(data[:,1], bins=256, facecolor='g', edgecolor='g', alpha=0.2)\n",
    "    plt.hist(data[:,0], bins=256, facecolor='b', edgecolor='b', alpha=0.2)\n",
    "    plt.title(name+\" distribution\")\n",
    "    plt.savefig(r\"E:\\project\\imgs\\\\\"+name+\"distribution.png\",dpi=400)\n",
    "    plt.show()\n",
    "# maxmin\n",
    "def normMaxMin(data):\n",
    "    new=np.zeros_like(data,dtype=np.float64)\n",
    "    dmax=data.max()\n",
    "    dmin=data.min()\n",
    "    for i in range(3):\n",
    "        new[:,i]=(data[:,i])*255/(dmax-dmin)+dmin\n",
    "    new=np.uint8(new+0.5)\n",
    "    return new"
   ]
  },
  {
   "cell_type": "code",
   "execution_count": 4,
   "metadata": {
    "collapsed": true,
    "jupyter": {
     "outputs_hidden": true
    }
   },
   "outputs": [
    {
     "name": "stdout",
     "output_type": "stream",
     "text": [
      "(5415, 5451, 4)\n",
      "(5415, 5451, 4)\n",
      "(5415, 5451, 4)\n",
      "(5415, 5451, 4)\n",
      "(5415, 5451, 4)\n",
      "(5415, 5451, 4)\n",
      "(5415, 5451, 4)\n"
     ]
    }
   ],
   "source": [
    "filepath = r\"E:\\project\\images\\researchImage\\region\"\n",
    "data07 = readimg(\"070727.tif\")\n",
    "data10 = readimg(\"100818.tif\")\n",
    "data11 = readimg(\"110608.tif\")\n",
    "data13 = readimg(\"130916.tif\")\n",
    "data15 = readimg(\"150729.tif\")\n",
    "data17 = readimg(\"170823.tif\")\n",
    "data18 = readimg(\"181029.tif\")"
   ]
  },
  {
   "cell_type": "code",
   "execution_count": 9,
   "metadata": {
    "collapsed": true,
    "jupyter": {
     "outputs_hidden": true
    }
   },
   "outputs": [
    {
     "name": "stdout",
     "output_type": "stream",
     "text": [
      "(1342, 1358, 4)\n",
      "(1678, 1698, 4)\n",
      "(2237, 2264, 4)\n"
     ]
    }
   ],
   "source": [
    "data00 = readimg(\"000326.tif\")\n",
    "data04 = readimg(\"040121.tif\")\n",
    "data09 = readimg(\"090618.tif\")"
   ]
  },
  {
   "cell_type": "code",
   "execution_count": 65,
   "metadata": {
    "jupyter": {
     "source_hidden": true
    }
   },
   "outputs": [],
   "source": [
    "# write\n",
    "filepath = r\"E:\\project\\images\\researchImage\\region\"\n",
    "writeimg(\"070727.tif\")\n",
    "writeimg(\"100818.tif\")\n",
    "writeimg(\"110608.tif\")\n",
    "writeimg(\"130916.tif\")\n",
    "writeimg(\"150729.tif\")\n",
    "writeimg(\"170823.tif\")\n",
    "writeimg(\"181029.tif\")"
   ]
  },
  {
   "cell_type": "code",
   "execution_count": 57,
   "metadata": {
    "collapsed": true,
    "jupyter": {
     "outputs_hidden": true,
     "source_hidden": true
    }
   },
   "outputs": [
    {
     "data": {
      "image/png": "[encoded data removed]",
      "text/plain": [
       "<Figure size 432x288 with 1 Axes>"
      ]
     },
     "metadata": {
      "needs_background": "light"
     },
     "output_type": "display_data"
    }
   ],
   "source": [
    "plotDist(data07,'07')\n",
    "plotDist(data10,'10')\n",
    "plotDist(data11,'11')\n",
    "plotDist(data13,'13')\n",
    "plotDist(data15,'15')\n",
    "plotDist(data17,'17')\n",
    "plotDist(data18,'18')"
   ]
  },
  {
   "cell_type": "code",
   "execution_count": 5,
   "metadata": {},
   "outputs": [],
   "source": [
    "# Compute MMD (maximum mean discrepancy) using numpy and scikit-learn.\n",
    "from sklearn import metrics\n",
    "\n",
    "\n",
    "def mmd_linear(X, Y):\n",
    "    \"\"\"MMD using linear kernel (i.e., k(x,y) = <x,y>)\n",
    "    Note that this is not the original linear MMD, only the reformulated and faster version.\n",
    "    The original version is:\n",
    "        def mmd_linear(X, Y):\n",
    "            XX = np.dot(X, X.T)\n",
    "            YY = np.dot(Y, Y.T)\n",
    "            XY = np.dot(X, Y.T)\n",
    "            return XX.mean() + YY.mean() - 2 * XY.mean()\n",
    "    Arguments:\n",
    "        X {[n_sample1, dim]} -- [X matrix]\n",
    "        Y {[n_sample2, dim]} -- [Y matrix]\n",
    "    Returns:\n",
    "        [scalar] -- [MMD value]\n",
    "    \"\"\"\n",
    "    delta = X.mean(0) - Y.mean(0)\n",
    "    return delta.dot(delta.T)\n",
    "\n",
    "\n",
    "def mmd_rbf(X, Y, gamma=1.0):\n",
    "    \"\"\"MMD using rbf (gaussian) kernel (i.e., k(x,y) = exp(-gamma * ||x-y||^2 / 2))\n",
    "    Arguments:\n",
    "        X {[n_sample1, dim]} -- [X matrix]\n",
    "        Y {[n_sample2, dim]} -- [Y matrix]\n",
    "    Keyword Arguments:\n",
    "        gamma {float} -- [kernel parameter] (default: {1.0})\n",
    "    Returns:\n",
    "        [scalar] -- [MMD value]\n",
    "    \"\"\"\n",
    "    XX = metrics.pairwise.rbf_kernel(X, X, gamma)\n",
    "    YY = metrics.pairwise.rbf_kernel(Y, Y, gamma)\n",
    "    XY = metrics.pairwise.rbf_kernel(X, Y, gamma)\n",
    "    return XX.mean() + YY.mean() - 2 * XY.mean()\n",
    "\n",
    "\n",
    "def mmd_poly(X, Y, degree=2, gamma=1, coef0=0):\n",
    "    \"\"\"MMD using polynomial kernel (i.e., k(x,y) = (gamma <X, Y> + coef0)^degree)\n",
    "    Arguments:\n",
    "        X {[n_sample1, dim]} -- [X matrix]\n",
    "        Y {[n_sample2, dim]} -- [Y matrix]\n",
    "    Keyword Arguments:\n",
    "        degree {int} -- [degree] (default: {2})\n",
    "        gamma {int} -- [gamma] (default: {1})\n",
    "        coef0 {int} -- [constant item] (default: {0})\n",
    "    Returns:\n",
    "        [scalar] -- [MMD value]\n",
    "    \"\"\"\n",
    "    XX = metrics.pairwise.polynomial_kernel(X, X, degree, gamma, coef0)\n",
    "    YY = metrics.pairwise.polynomial_kernel(Y, Y, degree, gamma, coef0)\n",
    "    XY = metrics.pairwise.polynomial_kernel(X, Y, degree, gamma, coef0)\n",
    "    return XX.mean() + YY.mean() - 2 * XY.mean()\n",
    "\n",
    "\n",
    "\n"
   ]
  },
  {
   "cell_type": "code",
   "execution_count": 13,
   "metadata": {},
   "outputs": [
    {
     "name": "stdout",
     "output_type": "stream",
     "text": [
      "07 and 10 MMD: 1695.1327970070563\n",
      "07 and 11 MMD: 194.06465656640398\n",
      "07 and 13 MMD: 528.0280170570252\n",
      "07 and 15 MMD: 1180.9084384248574\n",
      "07 and 17 MMD: 3745.9079062988467\n",
      "07 and 18 MMD: 539.4345226824174\n"
     ]
    }
   ],
   "source": [
    "print(\"07 and 10 MMD:\",mmd_linear(data07[:,:3],data10[:,:3]))\n",
    "print(\"07 and 11 MMD:\",mmd_linear(data07[:,:3],data11[:,:3]))\n",
    "print(\"07 and 13 MMD:\",mmd_linear(data07[:,:3],data13[:,:3]))\n",
    "print(\"07 and 15 MMD:\",mmd_linear(data07[:,:3],data15[:,:3]))\n",
    "print(\"07 and 17 MMD:\",mmd_linear(data07[:,:3],data17[:,:3]))\n",
    "print(\"07 and 18 MMD:\",mmd_linear(data07[:,:3],data18[:,:3]))\n"
   ]
  },
  {
   "cell_type": "code",
   "execution_count": 14,
   "metadata": {},
   "outputs": [
    {
     "name": "stdout",
     "output_type": "stream",
     "text": [
      "07 and 00 MMD: 356306.6482617847\n",
      "07 and 00 MMD: 375876.29888170277\n",
      "07 and 00 MMD: 77185.06586070413\n"
     ]
    }
   ],
   "source": [
    "print(\"07 and 00 MMD:\",mmd_linear(data07[:,:3],data00[:,:3]))\n",
    "print(\"07 and 00 MMD:\",mmd_linear(data07[:,:3],data04[:,:3]))\n",
    "print(\"07 and 00 MMD:\",mmd_linear(data07[:,:3],data09[:,:3]))"
   ]
  },
  {
   "cell_type": "code",
   "execution_count": 15,
   "metadata": {},
   "outputs": [
    {
     "name": "stdout",
     "output_type": "stream",
     "text": [
      "04 and 00 MMD: 850.5558815039402\n",
      "09 and 00 MMD: 110264.52253402004\n",
      "04 and 09 MMD: 118280.22097740899\n"
     ]
    }
   ],
   "source": [
    "print(\"04 and 00 MMD:\",mmd_linear(data04[:,:3],data00[:,:3]))\n",
    "print(\"09 and 00 MMD:\",mmd_linear(data09[:,:3],data00[:,:3]))\n",
    "print(\"04 and 09 MMD:\",mmd_linear(data04[:,:3],data09[:,:3]))"
   ]
  },
  {
   "cell_type": "code",
   "execution_count": 33,
   "metadata": {},
   "outputs": [
    {
     "data": {
      "image/png": "[encoded data removed]",
      "text/plain": [
       "<Figure size 432x288 with 1 Axes>"
      ]
     },
     "metadata": {
      "needs_background": "light"
     },
     "output_type": "display_data"
    }
   ],
   "source": [
    "plotDist(data00,'00',[200,900])"
   ]
  },
  {
   "cell_type": "code",
   "execution_count": 30,
   "metadata": {},
   "outputs": [
    {
     "data": {
      "image/png": "[encoded data removed]",
      "text/plain": [
       "<Figure size 432x288 with 1 Axes>"
      ]
     },
     "metadata": {
      "needs_background": "light"
     },
     "output_type": "display_data"
    }
   ],
   "source": [
    "plotDist(data04,'04')"
   ]
  },
  {
   "cell_type": "code",
   "execution_count": null,
   "metadata": {},
   "outputs": [],
   "source": [
    "plotDist(data09,'09')"
   ]
  },
  {
   "cell_type": "code",
   "execution_count": 34,
   "metadata": {},
   "outputs": [
    {
     "name": "stdout",
     "output_type": "stream",
     "text": [
      "[[5 1 0]\n",
      " [0 2 8]\n",
      " [8 4 3]]\n"
     ]
    }
   ],
   "source": []
  },
  {
   "cell_type": "code",
   "execution_count": null,
   "metadata": {},
   "outputs": [],
   "source": []
  }
 ],
 "metadata": {
  "kernelspec": {
   "display_name": "'Python Interactive'",
   "language": "python",
   "name": "5110b087-2493-4c4b-923a-f91a8704107c"
  },
  "language_info": {
   "codemirror_mode": {
    "name": "ipython",
    "version": 3
   },
   "file_extension": ".py",
   "mimetype": "text/x-python",
   "name": "python",
   "nbconvert_exporter": "python",
   "pygments_lexer": "ipython3",
   "version": "3.7.3"
  }
 },
 "nbformat": 4,
 "nbformat_minor": 4
}
