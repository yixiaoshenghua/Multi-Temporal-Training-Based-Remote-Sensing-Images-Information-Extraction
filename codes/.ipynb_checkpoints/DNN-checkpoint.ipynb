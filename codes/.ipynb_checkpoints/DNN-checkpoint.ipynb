{
  "nbformat": 4,
  "nbformat_minor": 0,
  "metadata": {
    "kernelspec": {
      "display_name": "'Python Interactive'",
      "language": "python",
      "name": "5110b087-2493-4c4b-923a-f91a8704107c"
    },
    "language_info": {
      "codemirror_mode": {
        "name": "ipython",
        "version": 3
      },
      "file_extension": ".py",
      "mimetype": "text/x-python",
      "name": "python",
      "nbconvert_exporter": "python",
      "pygments_lexer": "ipython3",
      "version": "3.7.3"
    },
    "colab": {
      "name": "DNN.ipynb",
      "provenance": []
    },
    "accelerator": "GPU"
  },
  "cells": [
    {
      "cell_type": "code",
      "metadata": {
        "id": "qDZgcgEOMnpF",
        "colab_type": "code",
        "colab": {
          "base_uri": "https://localhost:8080/",
          "height": 101
        },
        "outputId": "bb4817cf-f4b1-4587-a59d-9f1217bcbaf8"
      },
      "source": [
        "#coding=utf-8\n",
        "import matplotlib.pyplot as plt\n",
        "import numpy as np  \n",
        "from sklearn.model_selection import train_test_split\n",
        "import keras\n",
        "from keras import models\n",
        "from keras.models import Sequential  \n",
        "from keras.layers import *  \n",
        "from keras.utils.np_utils import to_categorical  \n",
        "from keras.models import Model\n",
        "import cv2\n",
        "import os"
      ],
      "execution_count": 1,
      "outputs": [
        {
          "output_type": "stream",
          "text": [
            "Using TensorFlow backend.\n"
          ],
          "name": "stderr"
        },
        {
          "output_type": "display_data",
          "data": {
            "text/html": [
              "<p style=\"color: red;\">\n",
              "The default version of TensorFlow in Colab will soon switch to TensorFlow 2.x.<br>\n",
              "We recommend you <a href=\"https://www.tensorflow.org/guide/migrate\" target=\"_blank\">upgrade</a> now \n",
              "or ensure your notebook will continue to use TensorFlow 1.x via the <code>%tensorflow_version 1.x</code> magic:\n",
              "<a href=\"https://colab.research.google.com/notebooks/tensorflow_version.ipynb\" target=\"_blank\">more info</a>.</p>\n"
            ],
            "text/plain": [
              "<IPython.core.display.HTML object>"
            ]
          },
          "metadata": {
            "tags": []
          }
        }
      ]
    },
    {
      "cell_type": "code",
      "metadata": {
        "jupyter": {
          "source_hidden": true
        },
        "id": "tVW6cdbIMnpf",
        "colab_type": "code",
        "colab": {}
      },
      "source": [
        "class LossHistory(keras.callbacks.Callback):\n",
        "    def on_train_begin(self, logs={}):\n",
        "        self.losses = {'batch':[], 'epoch':[]}\n",
        "        self.accuracy = {'batch':[], 'epoch':[]}\n",
        "        self.val_loss = {'batch':[], 'epoch':[]}\n",
        "        self.val_acc = {'batch':[], 'epoch':[]}\n",
        "\n",
        "    def on_batch_end(self, batch, logs={}):\n",
        "        self.losses['batch'].append(logs.get('loss'))\n",
        "        self.accuracy['batch'].append(logs.get('acc'))\n",
        "        self.val_loss['batch'].append(logs.get('val_loss'))\n",
        "        self.val_acc['batch'].append(logs.get('val_acc'))\n",
        "\n",
        "    def on_epoch_end(self, batch, logs={}):\n",
        "        self.losses['epoch'].append(logs.get('loss'))\n",
        "        self.accuracy['epoch'].append(logs.get('acc'))\n",
        "        self.val_loss['epoch'].append(logs.get('val_loss'))\n",
        "        self.val_acc['epoch'].append(logs.get('val_acc'))\n",
        "\n",
        "    def loss_plot(self, loss_type):\n",
        "        iters = range(len(self.losses[loss_type]))\n",
        "        plt.figure()\n",
        "        # acc\n",
        "        plt.plot(iters, self.accuracy[loss_type], 'r', label='train acc')\n",
        "        # loss\n",
        "        plt.plot(iters, self.losses[loss_type], 'g', label='train loss')\n",
        "        if loss_type == 'epoch':\n",
        "            # val_acc\n",
        "            plt.plot(iters, self.val_acc[loss_type], 'b', label='val acc')\n",
        "            # val_loss\n",
        "            plt.plot(iters, self.val_loss[loss_type], 'k', label='val loss')\n",
        "        plt.grid(True)\n",
        "        plt.xlabel(loss_type)\n",
        "        plt.ylabel('acc-loss')\n",
        "        plt.legend(loc=\"upper right\")\n",
        "        plt.show()\n",
        "history=LossHistory()"
      ],
      "execution_count": 0,
      "outputs": []
    },
    {
      "cell_type": "code",
      "metadata": {
        "id": "6Kw8kXPwMnpy",
        "colab_type": "code",
        "colab": {
          "base_uri": "https://localhost:8080/",
          "height": 790
        },
        "outputId": "f7ac411f-0359-4342-b986-3eaca7ad046b"
      },
      "source": [
        "#the network architecture\n",
        "model = models.Sequential()\n",
        "model.add(Dense(32, activation='relu', input_shape=(3,)))\n",
        "model.add(Dense(128, activation='relu'))\n",
        "model.add(Dense(512, activation='relu'))\n",
        "model.add(Dropout(rate=0.3))\n",
        "model.add(Dense(1024, activation='relu'))\n",
        "model.add(Dense(512, activation='relu'))\n",
        "model.add(Dense(256, activation='relu'))\n",
        "model.add(Dropout(rate=0.1))\n",
        "model.add(Dense(128, activation='relu'))\n",
        "model.add(Dense(32, activation='relu'))\n",
        "model.add(Dense(5, activation='softmax'))\n",
        "model.summary()\n",
        "model.compile(optimizer='adam', loss='categorical_crossentropy', metrics=['accuracy'])"
      ],
      "execution_count": 3,
      "outputs": [
        {
          "output_type": "stream",
          "text": [
            "WARNING:tensorflow:From /usr/local/lib/python3.6/dist-packages/keras/backend/tensorflow_backend.py:66: The name tf.get_default_graph is deprecated. Please use tf.compat.v1.get_default_graph instead.\n",
            "\n",
            "WARNING:tensorflow:From /usr/local/lib/python3.6/dist-packages/keras/backend/tensorflow_backend.py:541: The name tf.placeholder is deprecated. Please use tf.compat.v1.placeholder instead.\n",
            "\n",
            "WARNING:tensorflow:From /usr/local/lib/python3.6/dist-packages/keras/backend/tensorflow_backend.py:4432: The name tf.random_uniform is deprecated. Please use tf.random.uniform instead.\n",
            "\n",
            "WARNING:tensorflow:From /usr/local/lib/python3.6/dist-packages/keras/backend/tensorflow_backend.py:148: The name tf.placeholder_with_default is deprecated. Please use tf.compat.v1.placeholder_with_default instead.\n",
            "\n",
            "WARNING:tensorflow:From /usr/local/lib/python3.6/dist-packages/keras/backend/tensorflow_backend.py:3733: calling dropout (from tensorflow.python.ops.nn_ops) with keep_prob is deprecated and will be removed in a future version.\n",
            "Instructions for updating:\n",
            "Please use `rate` instead of `keep_prob`. Rate should be set to `rate = 1 - keep_prob`.\n",
            "Model: \"sequential_1\"\n",
            "_________________________________________________________________\n",
            "Layer (type)                 Output Shape              Param #   \n",
            "=================================================================\n",
            "dense_1 (Dense)              (None, 32)                128       \n",
            "_________________________________________________________________\n",
            "dense_2 (Dense)              (None, 128)               4224      \n",
            "_________________________________________________________________\n",
            "dense_3 (Dense)              (None, 512)               66048     \n",
            "_________________________________________________________________\n",
            "dropout_1 (Dropout)          (None, 512)               0         \n",
            "_________________________________________________________________\n",
            "dense_4 (Dense)              (None, 1024)              525312    \n",
            "_________________________________________________________________\n",
            "dense_5 (Dense)              (None, 256)               262400    \n",
            "_________________________________________________________________\n",
            "dense_6 (Dense)              (None, 128)               32896     \n",
            "_________________________________________________________________\n",
            "dense_7 (Dense)              (None, 32)                4128      \n",
            "_________________________________________________________________\n",
            "dense_8 (Dense)              (None, 5)                 165       \n",
            "=================================================================\n",
            "Total params: 895,301\n",
            "Trainable params: 895,301\n",
            "Non-trainable params: 0\n",
            "_________________________________________________________________\n",
            "WARNING:tensorflow:From /usr/local/lib/python3.6/dist-packages/keras/optimizers.py:793: The name tf.train.Optimizer is deprecated. Please use tf.compat.v1.train.Optimizer instead.\n",
            "\n",
            "WARNING:tensorflow:From /usr/local/lib/python3.6/dist-packages/keras/backend/tensorflow_backend.py:3576: The name tf.log is deprecated. Please use tf.math.log instead.\n",
            "\n"
          ],
          "name": "stdout"
        }
      ]
    },
    {
      "cell_type": "code",
      "metadata": {
        "id": "T_SYoXDUMnqK",
        "colab_type": "code",
        "colab": {},
        "outputId": "0079ef8b-9e5c-49d6-b8cd-4b00fcfab1b9"
      },
      "source": [
        "label = cv2.imread(r\"/content/ROI02label.tif\", 0)-1\n",
        "image = cv2.imread(r\"/content/040121_1665_1666part.tif\")\n",
        "image = image.reshape((image.shape[0]*image.shape[1], 3))\n",
        "label = label.reshape((label.shape[0]*label.shape[1], 1))\n",
        "print(\"image shape:\", image.shape)\n",
        "print(\"label shape:\", label.shape)"
      ],
      "execution_count": 0,
      "outputs": [
        {
          "output_type": "stream",
          "text": [
            "image shape: (160000, 3)\n",
            "label shape: (160000, 1)\n"
          ],
          "name": "stdout"
        }
      ]
    },
    {
      "cell_type": "code",
      "metadata": {
        "id": "YFiudLOaMnqk",
        "colab_type": "code",
        "colab": {},
        "outputId": "71629e6a-45ea-4ef3-dff3-2c7314563111"
      },
      "source": [
        "#split train_data and test_data\n",
        "X_train, X_test, y_train, y_test = train_test_split(image, label, test_size=0.2)\n",
        "print(\"X_train shape:\",X_train.shape)\n",
        "print(\"X_test shape:\",X_test.shape)\n",
        "print(\"y_train shape:\",y_train.shape)\n",
        "print(\"y_test shape:\",y_test.shape)"
      ],
      "execution_count": 0,
      "outputs": [
        {
          "output_type": "stream",
          "text": [
            "X_train shape: (128000, 3)\n",
            "X_test shape: (32000, 3)\n",
            "y_train shape: (128000, 1)\n",
            "y_test shape: (32000, 1)\n"
          ],
          "name": "stdout"
        }
      ]
    },
    {
      "cell_type": "code",
      "metadata": {
        "id": "9Kq8NpgxMnrQ",
        "colab_type": "code",
        "colab": {},
        "outputId": "74b571ab-9259-4344-d8ad-f3dca6c884a3"
      },
      "source": [
        "#prepare the image data\n",
        "X_train = X_train.astype('float32')/255\n",
        "X_test = X_test.astype('float32')/255\n",
        "print(\"X_train shape:\", X_train.shape)\n",
        "print(\"X_test shape:\", X_test.shape)"
      ],
      "execution_count": 0,
      "outputs": [
        {
          "output_type": "stream",
          "text": [
            "X_train shape: (128000, 3)\n",
            "X_test shape: (32000, 3)\n"
          ],
          "name": "stdout"
        }
      ]
    },
    {
      "cell_type": "code",
      "metadata": {
        "id": "oO99-M6pMnrk",
        "colab_type": "code",
        "colab": {}
      },
      "source": [
        "#prepare the labels\n",
        "from keras.utils import to_categorical\n",
        "y_train = to_categorical(y_train)\n",
        "y_test = to_categorical(y_test)"
      ],
      "execution_count": 0,
      "outputs": []
    },
    {
      "cell_type": "code",
      "metadata": {
        "id": "yzo25JW5Mnrr",
        "colab_type": "code",
        "colab": {},
        "outputId": "13bf1df2-37b5-48b3-afd9-0a306ca866cb"
      },
      "source": [
        "model.fit(X_train, y_train, epochs=200, batch_size=100, validation_data=(X_test,y_test), callbacks=[history])"
      ],
      "execution_count": 0,
      "outputs": [
        {
          "output_type": "stream",
          "text": [
            "WARNING:tensorflow:From D:\\Python37\\lib\\site-packages\\tensorflow\\python\\ops\\math_grad.py:1250: add_dispatch_support.<locals>.wrapper (from tensorflow.python.ops.array_ops) is deprecated and will be removed in a future version.\n",
            "Instructions for updating:\n",
            "Use tf.where in 2.0, which has the same broadcast rule as np.where\n",
            "Train on 128000 samples, validate on 32000 samples\n",
            "Epoch 1/20\n",
            "128000/128000 [==============================] - 54s 422us/step - loss: 0.9794 - acc: 0.6015 - val_loss: 0.9094 - val_acc: 0.6370\n",
            "Epoch 2/20\n",
            "128000/128000 [==============================] - 58s 452us/step - loss: 0.9173 - acc: 0.6335 - val_loss: 0.8970 - val_acc: 0.6412\n",
            "Epoch 3/20\n",
            "128000/128000 [==============================] - 55s 433us/step - loss: 0.9112 - acc: 0.6369 - val_loss: 0.8935 - val_acc: 0.6406\n",
            "Epoch 4/20\n",
            "128000/128000 [==============================] - 52s 409us/step - loss: 0.9069 - acc: 0.6386 - val_loss: 0.8977 - val_acc: 0.6442\n",
            "Epoch 5/20\n",
            "128000/128000 [==============================] - 46s 362us/step - loss: 0.9049 - acc: 0.6402 - val_loss: 0.8916 - val_acc: 0.6460\n",
            "Epoch 6/20\n",
            "128000/128000 [==============================] - 46s 358us/step - loss: 0.9035 - acc: 0.6409 - val_loss: 0.9039 - val_acc: 0.6388\n",
            "Epoch 7/20\n",
            "128000/128000 [==============================] - 50s 388us/step - loss: 0.9015 - acc: 0.6414 - val_loss: 0.8927 - val_acc: 0.6421\n",
            "Epoch 8/20\n",
            "128000/128000 [==============================] - 50s 394us/step - loss: 0.9008 - acc: 0.6410 - val_loss: 0.8851 - val_acc: 0.6466\n",
            "Epoch 9/20\n",
            "128000/128000 [==============================] - 55s 430us/step - loss: 0.8991 - acc: 0.6416 - val_loss: 0.8987 - val_acc: 0.6409\n",
            "Epoch 10/20\n",
            "128000/128000 [==============================] - 56s 435us/step - loss: 0.8984 - acc: 0.6422 - val_loss: 0.9300 - val_acc: 0.6323\n",
            "Epoch 11/20\n",
            "128000/128000 [==============================] - 54s 424us/step - loss: 0.8971 - acc: 0.6423 - val_loss: 0.8948 - val_acc: 0.6427\n",
            "Epoch 12/20\n",
            "128000/128000 [==============================] - 53s 415us/step - loss: 0.8969 - acc: 0.6425 - val_loss: 0.8935 - val_acc: 0.6433\n",
            "Epoch 13/20\n",
            "128000/128000 [==============================] - 54s 420us/step - loss: 0.8958 - acc: 0.6427 - val_loss: 0.8945 - val_acc: 0.6443\n",
            "Epoch 14/20\n",
            "128000/128000 [==============================] - 54s 424us/step - loss: 0.8955 - acc: 0.6430 - val_loss: 0.8920 - val_acc: 0.6418\n",
            "Epoch 15/20\n",
            "128000/128000 [==============================] - 54s 420us/step - loss: 0.8937 - acc: 0.6434 - val_loss: 0.9018 - val_acc: 0.6394\n",
            "Epoch 16/20\n",
            "128000/128000 [==============================] - 55s 432us/step - loss: 0.8944 - acc: 0.6423 - val_loss: 0.8853 - val_acc: 0.6446\n",
            "Epoch 17/20\n",
            "128000/128000 [==============================] - 56s 440us/step - loss: 0.8937 - acc: 0.6432 - val_loss: 0.9000 - val_acc: 0.6405\n",
            "Epoch 18/20\n",
            "128000/128000 [==============================] - 55s 433us/step - loss: 0.8927 - acc: 0.6441 - val_loss: 0.8867 - val_acc: 0.6473\n",
            "Epoch 19/20\n",
            "128000/128000 [==============================] - 58s 457us/step - loss: 0.8920 - acc: 0.6449 - val_loss: 0.8917 - val_acc: 0.6447\n",
            "Epoch 20/20\n",
            "128000/128000 [==============================] - 56s 435us/step - loss: 0.8927 - acc: 0.6442 - val_loss: 0.8857 - val_acc: 0.6475\n"
          ],
          "name": "stdout"
        },
        {
          "output_type": "execute_result",
          "data": {
            "text/plain": [
              "<keras.callbacks.History at 0x239fa63e6d8>"
            ]
          },
          "metadata": {
            "tags": []
          },
          "execution_count": 19
        }
      ]
    },
    {
      "cell_type": "code",
      "metadata": {
        "id": "Lpmd-Lx-Mnr1",
        "colab_type": "code",
        "colab": {}
      },
      "source": [
        "test_loss,test_acc=model.evaluate(X_test,y_test)\n",
        "print(\"test_acc:\",test_acc)\n",
        "print(\"test_loss:\",test_loss)"
      ],
      "execution_count": 0,
      "outputs": []
    },
    {
      "cell_type": "code",
      "metadata": {
        "id": "5cJ5QqmiMnr-",
        "colab_type": "code",
        "colab": {}
      },
      "source": [
        "history.loss_plot('epoch')"
      ],
      "execution_count": 0,
      "outputs": []
    }
  ]
}