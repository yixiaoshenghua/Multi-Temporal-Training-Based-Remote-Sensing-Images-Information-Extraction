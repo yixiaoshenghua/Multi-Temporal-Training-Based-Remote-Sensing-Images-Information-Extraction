{
 "cells": [
  {
   "cell_type": "code",
   "execution_count": 1,
   "metadata": {
    "collapsed": true,
    "jupyter": {
     "outputs_hidden": true
    }
   },
   "outputs": [
    {
     "name": "stderr",
     "output_type": "stream",
     "text": [
      "D:\\Python37\\lib\\site-packages\\numpy\\_distributor_init.py:32: UserWarning: loaded more than 1 DLL from .libs:\n",
      "D:\\Python37\\lib\\site-packages\\numpy\\.libs\\libopenblas.PYQHXLVVQ7VESDPUVUADXEVJOBGHJPAY.gfortran-win_amd64.dll\n",
      "D:\\Python37\\lib\\site-packages\\numpy\\.libs\\libopenblas.TXA6YQSD3GCQQC22GEQ54J2UDCXDXHWN.gfortran-win_amd64.dll\n",
      "  stacklevel=1)\n"
     ]
    }
   ],
   "source": [
    "import numpy as np\n",
    "import cv2\n",
    "import matplotlib.pyplot as plt\n",
    "import rasterio as rio\n",
    "import tqdm"
   ]
  },
  {
   "cell_type": "code",
   "execution_count": 9,
   "metadata": {},
   "outputs": [],
   "source": [
    "image=cv2.imread(r\"E:\\project\\images\\images_part\\040121_1665_1666part.tif\")\n",
    "ori=cv2.imread(r\"E:\\project\\images\\040121_mul.tif\")\n",
    "label=cv2.imread(r\"E:\\project\\images\\images_part\\ROI02label.tif\",0)"
   ]
  },
  {
   "cell_type": "code",
   "execution_count": 10,
   "metadata": {},
   "outputs": [],
   "source": [
    "def compute_ndvi(img):\n",
    "    return (img[:,:,2]-img[:,:,1])/(img[:,:,2]+img[:,:,1])\n",
    "def maxmin(src):\n",
    "    dst=np.zeros_like(src)\n",
    "    dmax=np.max(src)\n",
    "    dmin=np.min(src)\n",
    "    dst=(src-dmin)/(dmax-dmin)*255+dmin\n",
    "    dst=np.uint8(dst+0.5)\n",
    "    return dst"
   ]
  },
  {
   "cell_type": "code",
   "execution_count": 11,
   "metadata": {},
   "outputs": [],
   "source": [
    "image=np.float64(image)"
   ]
  },
  {
   "cell_type": "code",
   "execution_count": 36,
   "metadata": {},
   "outputs": [],
   "source": [
    "ndvi=compute_ndvi(image)\n",
    "ndvi=maxmin(ndvi)"
   ]
  },
  {
   "cell_type": "code",
   "execution_count": 37,
   "metadata": {},
   "outputs": [],
   "source": [
    "#抽取各类地物\n",
    "def subtract_class(c):\n",
    "    location=[]\n",
    "    for i in range(label.shape[0]):\n",
    "        for j in range(label.shape[1]):\n",
    "            if label[i,j]==c:\n",
    "                  location.append([i,j])\n",
    "    location=np.array(location)\n",
    "    obj=[]\n",
    "    for loc in location:\n",
    "        obj.append(image[loc[0],loc[1],:])\n",
    "    obj=np.array(obj)\n",
    "    print(\"shape:\",obj.shape)\n",
    "    return obj\n",
    "def subtract_ndvi(c):\n",
    "    location=[]\n",
    "    for i in range(label.shape[0]):\n",
    "        for j in range(label.shape[1]):\n",
    "            if label[i,j]==c:\n",
    "                  location.append([i,j])\n",
    "    location=np.array(location)\n",
    "    obj=[]\n",
    "    for loc in location:\n",
    "        obj.append(ndvi[loc[0],loc[1]])\n",
    "    obj=np.array(obj)\n",
    "    print(\"shape:\",obj.shape)\n",
    "    return obj"
   ]
  },
  {
   "cell_type": "code",
   "execution_count": 28,
   "metadata": {},
   "outputs": [
    {
     "name": "stdout",
     "output_type": "stream",
     "text": [
      "shape: (36294, 3)\n",
      "shape: (13238, 3)\n",
      "shape: (56807, 3)\n",
      "shape: (24268, 3)\n",
      "shape: (29393, 3)\n"
     ]
    }
   ],
   "source": [
    "buildings=subtract_class(1)\n",
    "road=subtract_class(2)\n",
    "veg=subtract_class(3)\n",
    "water=subtract_class(4)\n",
    "oth=subtract_class(5)"
   ]
  },
  {
   "cell_type": "code",
   "execution_count": 38,
   "metadata": {},
   "outputs": [
    {
     "name": "stdout",
     "output_type": "stream",
     "text": [
      "shape: (36294,)\n",
      "shape: (13238,)\n",
      "shape: (56807,)\n",
      "shape: (24268,)\n",
      "shape: (29393,)\n"
     ]
    }
   ],
   "source": [
    "buildings_ndvi=subtract_ndvi(1)\n",
    "road_ndvi=subtract_ndvi(2)\n",
    "veg_ndvi=subtract_ndvi(3)\n",
    "water_ndvi=subtract_ndvi(4)\n",
    "oth_ndvi=subtract_ndvi(5)"
   ]
  },
  {
   "cell_type": "code",
   "execution_count": 51,
   "metadata": {},
   "outputs": [
    {
     "name": "stdout",
     "output_type": "stream",
     "text": [
      "mean: 103.2978154100727\n",
      "min: 0\n",
      "max: 189\n",
      "std 16.59831731986213\n"
     ]
    },
    {
     "data": {
      "image/png": "[encoded data removed]",
      "text/plain": [
       "<Figure size 432x288 with 1 Axes>"
      ]
     },
     "metadata": {
      "needs_background": "light"
     },
     "output_type": "display_data"
    }
   ],
   "source": [
    "print(\"mean:\",np.mean(veg_ndvi))\n",
    "print(\"min:\",np.min(veg_ndvi))\n",
    "print(\"max:\",np.max(veg_ndvi))\n",
    "print(\"std\",np.std(veg_ndvi))\n",
    "veg_his=np.ravel(veg_ndvi)\n",
    "plt.hist(veg_his, bins=40, density=0, facecolor=\"red\", edgecolor=\"black\", alpha=0.7)\n",
    "plt.title(\"veg ndvi\")\n",
    "plt.savefig(r\"E:\\project\\images\\images_part\\veg_ndvi.jpg\",dpi=600)"
   ]
  },
  {
   "cell_type": "code",
   "execution_count": 46,
   "metadata": {},
   "outputs": [
    {
     "name": "stdout",
     "output_type": "stream",
     "text": [
      "mean: 114.53229183887144\n",
      "min: 23\n",
      "max: 255\n",
      "std 21.090270661094948\n"
     ]
    },
    {
     "data": {
      "text/plain": [
       "Text(0.5, 1.0, 'buildings ndvi')"
      ]
     },
     "execution_count": 46,
     "metadata": {},
     "output_type": "execute_result"
    },
    {
     "data": {
      "image/png": "[encoded data removed]",
      "text/plain": [
       "<Figure size 432x288 with 1 Axes>"
      ]
     },
     "metadata": {
      "needs_background": "light"
     },
     "output_type": "display_data"
    }
   ],
   "source": [
    "print(\"mean:\",np.mean(buildings_ndvi))\n",
    "print(\"min:\",np.min(buildings_ndvi))\n",
    "print(\"max:\",np.max(buildings_ndvi))\n",
    "print(\"std\",np.std(buildings_ndvi))\n",
    "buildings_his=np.ravel(buildings_ndvi)\n",
    "plt.hist(buildings_his, bins=40, density=0, facecolor=\"red\", edgecolor=\"black\", alpha=0.7)\n",
    "plt.title(\"buildings ndvi\")"
   ]
  },
  {
   "cell_type": "code",
   "execution_count": 48,
   "metadata": {},
   "outputs": [
    {
     "name": "stdout",
     "output_type": "stream",
     "text": [
      "mean: 117.32565342196706\n",
      "min: 52\n",
      "max: 209\n",
      "std 11.022368404057774\n"
     ]
    },
    {
     "data": {
      "text/plain": [
       "Text(0.5, 1.0, 'road ndvi')"
      ]
     },
     "execution_count": 48,
     "metadata": {},
     "output_type": "execute_result"
    },
    {
     "data": {
      "image/png": "[encoded data removed]",
      "text/plain": [
       "<Figure size 432x288 with 1 Axes>"
      ]
     },
     "metadata": {
      "needs_background": "light"
     },
     "output_type": "display_data"
    }
   ],
   "source": [
    "print(\"mean:\",np.mean(road_ndvi))\n",
    "print(\"min:\",np.min(road_ndvi))\n",
    "print(\"max:\",np.max(road_ndvi))\n",
    "print(\"std\",np.std(road_ndvi))\n",
    "road_his=np.ravel(road_ndvi)\n",
    "plt.hist(road_his, bins=40, density=0, facecolor=\"red\", edgecolor=\"black\", alpha=0.7)\n",
    "plt.title(\"road ndvi\")"
   ]
  },
  {
   "cell_type": "code",
   "execution_count": 49,
   "metadata": {},
   "outputs": [
    {
     "name": "stdout",
     "output_type": "stream",
     "text": [
      "mean: 75.82079281358168\n",
      "min: 32\n",
      "max: 164\n",
      "std 20.805784065168893\n"
     ]
    },
    {
     "data": {
      "text/plain": [
       "Text(0.5, 1.0, 'water ndvi')"
      ]
     },
     "execution_count": 49,
     "metadata": {},
     "output_type": "execute_result"
    },
    {
     "data": {
      "image/png": "[encoded data removed]",
      "text/plain": [
       "<Figure size 432x288 with 1 Axes>"
      ]
     },
     "metadata": {
      "needs_background": "light"
     },
     "output_type": "display_data"
    }
   ],
   "source": [
    "print(\"mean:\",np.mean(water_ndvi))\n",
    "print(\"min:\",np.min(water_ndvi))\n",
    "print(\"max:\",np.max(water_ndvi))\n",
    "print(\"std\",np.std(water_ndvi))\n",
    "water_his=np.ravel(water_ndvi)\n",
    "plt.hist(water_his, bins=40, density=0, facecolor=\"red\", edgecolor=\"black\", alpha=0.7)\n",
    "plt.title(\"water ndvi\")"
   ]
  },
  {
   "cell_type": "code",
   "execution_count": 50,
   "metadata": {},
   "outputs": [
    {
     "name": "stdout",
     "output_type": "stream",
     "text": [
      "mean: 117.34185010036403\n",
      "min: 36\n",
      "max: 222\n",
      "std 13.823762895204919\n"
     ]
    },
    {
     "data": {
      "text/plain": [
       "Text(0.5, 1.0, 'oth ndvi')"
      ]
     },
     "execution_count": 50,
     "metadata": {},
     "output_type": "execute_result"
    },
    {
     "data": {
      "image/png": "[encoded data removed]",
      "text/plain": [
       "<Figure size 432x288 with 1 Axes>"
      ]
     },
     "metadata": {
      "needs_background": "light"
     },
     "output_type": "display_data"
    }
   ],
   "source": [
    "print(\"mean:\",np.mean(oth_ndvi))\n",
    "print(\"min:\",np.min(oth_ndvi))\n",
    "print(\"max:\",np.max(oth_ndvi))\n",
    "print(\"std\",np.std(oth_ndvi))\n",
    "oth_his=np.ravel(oth_ndvi)\n",
    "plt.hist(oth_his, bins=40, density=0, facecolor=\"red\", edgecolor=\"black\", alpha=0.7)\n",
    "plt.title(\"oth ndvi\")"
   ]
  },
  {
   "cell_type": "code",
   "execution_count": null,
   "metadata": {},
   "outputs": [],
   "source": []
  }
 ],
 "metadata": {
  "kernelspec": {
   "display_name": "'Python Interactive'",
   "language": "python",
   "name": "5110b087-2493-4c4b-923a-f91a8704107c"
  },
  "language_info": {
   "codemirror_mode": {
    "name": "ipython",
    "version": 3
   },
   "file_extension": ".py",
   "mimetype": "text/x-python",
   "name": "python",
   "nbconvert_exporter": "python",
   "pygments_lexer": "ipython3",
   "version": "3.7.3"
  }
 },
 "nbformat": 4,
 "nbformat_minor": 4
}
