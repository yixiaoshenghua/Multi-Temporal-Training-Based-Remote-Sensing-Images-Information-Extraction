{
 "cells": [
  {
   "cell_type": "code",
   "execution_count": 28,
   "metadata": {},
   "outputs": [],
   "source": [
    "import numpy as np\n",
    "import matplotlib.pyplot as plt\n",
    "import cv2\n",
    "from sklearn.model_selection import train_test_split\n",
    "import keras\n",
    "from keras import optimizers\n",
    "from keras import models\n",
    "from keras.utils import to_categorical \n",
    "from keras.layers import *\n",
    "import time"
   ]
  },
  {
   "cell_type": "code",
   "execution_count": 2,
   "metadata": {},
   "outputs": [],
   "source": [
    "class LossHistory(keras.callbacks.Callback):\n",
    "    def on_train_begin(self, logs={}):\n",
    "        self.losses = {'batch':[], 'epoch':[]}\n",
    "        self.accuracy = {'batch':[], 'epoch':[]}\n",
    "        self.val_loss = {'batch':[], 'epoch':[]}\n",
    "        self.val_acc = {'batch':[], 'epoch':[]}\n",
    "\n",
    "    def on_batch_end(self, batch, logs={}):\n",
    "        self.losses['batch'].append(logs.get('loss'))\n",
    "        self.accuracy['batch'].append(logs.get('acc'))\n",
    "        self.val_loss['batch'].append(logs.get('val_loss'))\n",
    "        self.val_acc['batch'].append(logs.get('val_acc'))\n",
    "\n",
    "    def on_epoch_end(self, batch, logs={}):\n",
    "        self.losses['epoch'].append(logs.get('loss'))\n",
    "        self.accuracy['epoch'].append(logs.get('acc'))\n",
    "        self.val_loss['epoch'].append(logs.get('val_loss'))\n",
    "        self.val_acc['epoch'].append(logs.get('val_acc'))\n",
    "\n",
    "    def loss_plot(self, loss_type):\n",
    "        iters = range(len(self.losses[loss_type]))\n",
    "        plt.figure()\n",
    "        # acc\n",
    "        plt.plot(iters, self.accuracy[loss_type], 'r', label='train acc')\n",
    "        # loss\n",
    "        plt.plot(iters, self.losses[loss_type], 'g', label='train loss')\n",
    "        if loss_type == 'epoch':\n",
    "            # val_acc\n",
    "            plt.plot(iters, self.val_acc[loss_type], 'b', label='val acc')\n",
    "            # val_loss\n",
    "            plt.plot(iters, self.val_loss[loss_type], 'k', label='val loss')\n",
    "        plt.grid(True)\n",
    "        plt.xlabel(loss_type)\n",
    "        plt.ylabel('acc-loss')\n",
    "        plt.legend(loc=\"upper right\")\n",
    "        plt.show()\n",
    "history=LossHistory()"
   ]
  },
  {
   "cell_type": "markdown",
   "metadata": {},
   "source": [
    "#load data"
   ]
  },
  {
   "cell_type": "code",
   "execution_count": 3,
   "metadata": {},
   "outputs": [],
   "source": [
    "roi040121=np.loadtxt(open(r\"E:\\project\\images\\images_part\\040121selectROI03.csv\",\"r\"),delimiter=',',skiprows=25,dtype=np.uint8)"
   ]
  },
  {
   "cell_type": "code",
   "execution_count": 89,
   "metadata": {},
   "outputs": [
    {
     "data": {
      "text/plain": [
       "(7245, 3)"
      ]
     },
     "execution_count": 89,
     "metadata": {},
     "output_type": "execute_result"
    }
   ],
   "source": [
    "features040121=roi040121[:,2:]\n",
    "features040121.shape"
   ]
  },
  {
   "cell_type": "code",
   "execution_count": 90,
   "metadata": {},
   "outputs": [
    {
     "data": {
      "text/plain": [
       "array([[0.],\n",
       "       [0.],\n",
       "       [0.],\n",
       "       ...,\n",
       "       [4.],\n",
       "       [4.],\n",
       "       [4.]])"
      ]
     },
     "execution_count": 90,
     "metadata": {},
     "output_type": "execute_result"
    }
   ],
   "source": [
    "num_0=1342   # buildings,red\n",
    "num_1=1623   # vegetation,green\n",
    "num_2=1424   # water,blue\n",
    "num_3=1433   # road,yellow\n",
    "num_4=1423   # others\n",
    "label_0=np.zeros((num_0))\n",
    "label_1=np.ones((num_1))\n",
    "label_2=np.ones((num_2))+1\n",
    "label_3=np.ones((num_3))+2\n",
    "label_4=np.ones((num_4))+3\n",
    "labels040121=np.concatenate((label_0,label_1,label_2,label_3,label_4),axis=0)\n",
    "# labels=tf.one_hot(labels,depth=5)\n",
    "# Sess=tf.Session()\n",
    "# labels040121=labels.eval(session=Sess)\n",
    "# Sess.close()\n",
    "labels040121=np.array([labels040121]).reshape(labels040121.shape[0],1)\n",
    "labels040121"
   ]
  },
  {
   "cell_type": "code",
   "execution_count": 91,
   "metadata": {},
   "outputs": [
    {
     "data": {
      "text/plain": [
       "array([[123., 115., 105.,   4.],\n",
       "       [100.,  84.,  70.,   4.],\n",
       "       [202., 214., 208.,   0.],\n",
       "       ...,\n",
       "       [ 28.,  32.,  35.,   1.],\n",
       "       [ 89.,  87.,  79.,   4.],\n",
       "       [ 33.,  40.,  27.,   1.]])"
      ]
     },
     "execution_count": 91,
     "metadata": {},
     "output_type": "execute_result"
    }
   ],
   "source": [
    "train_dataset04=np.concatenate((features040121,labels040121),axis=1)\n",
    "np.random.shuffle(train_dataset04)\n",
    "features04=train_dataset04[:,:3]\n",
    "labels04=train_dataset04[:,3:]\n",
    "train_dataset04"
   ]
  },
  {
   "cell_type": "code",
   "execution_count": 92,
   "metadata": {},
   "outputs": [
    {
     "name": "stdout",
     "output_type": "stream",
     "text": [
      "X_train shape: (5796, 3)\n",
      "X_test shape: (1449, 3)\n",
      "y_train shape: (5796,)\n",
      "y_test shape: (1449,)\n"
     ]
    }
   ],
   "source": [
    "#split train_data and test_data\n",
    "X_train04, X_test04, y_train04, y_test04 = train_test_split(features04, labels04, test_size=0.2)\n",
    "y_train04=y_train04.T\n",
    "y_train04=y_train04.squeeze()\n",
    "y_test04=y_test04.T\n",
    "y_test04=y_test04.squeeze()\n",
    "print(\"X_train shape:\",X_train04.shape)\n",
    "print(\"X_test shape:\",X_test04.shape)\n",
    "print(\"y_train shape:\",y_train04.shape)\n",
    "print(\"y_test shape:\",y_test04.shape)"
   ]
  },
  {
   "cell_type": "code",
   "execution_count": 93,
   "metadata": {},
   "outputs": [
    {
     "name": "stdout",
     "output_type": "stream",
     "text": [
      "_________________________________________________________________\n",
      "Layer (type)                 Output Shape              Param #   \n",
      "=================================================================\n",
      "dense_46 (Dense)             (None, 128)               512       \n",
      "_________________________________________________________________\n",
      "dense_47 (Dense)             (None, 64)                8256      \n",
      "_________________________________________________________________\n",
      "dense_48 (Dense)             (None, 32)                2080      \n",
      "_________________________________________________________________\n",
      "dense_49 (Dense)             (None, 16)                528       \n",
      "_________________________________________________________________\n",
      "dense_50 (Dense)             (None, 8)                 136       \n",
      "_________________________________________________________________\n",
      "dense_51 (Dense)             (None, 5)                 45        \n",
      "=================================================================\n",
      "Total params: 11,557\n",
      "Trainable params: 11,557\n",
      "Non-trainable params: 0\n",
      "_________________________________________________________________\n"
     ]
    }
   ],
   "source": [
    "model=models.Sequential()\n",
    "model.add(Dense(128,activation='relu',input_shape=(3,)))\n",
    "model.add(Dense(64,activation='relu'))\n",
    "model.add(Dense(32,activation='relu'))\n",
    "#model.add(BatchNormalization())\n",
    "model.add(Dense(16,activation='relu'))\n",
    "model.add(Dense(8,activation='relu'))\n",
    "#model.add(BatchNormalization())\n",
    "model.add(Dense(5,activation='relu'))\n",
    "model.summary()"
   ]
  },
  {
   "cell_type": "code",
   "execution_count": 94,
   "metadata": {},
   "outputs": [],
   "source": [
    "sgd = optimizers.SGD(lr=0.001, decay=1e-6, momentum=0.9, nesterov=True)\n",
    "model.compile(optimizer=sgd,loss=\"categorical_crossentropy\",metrics=[\"accuracy\"])\n"
   ]
  },
  {
   "cell_type": "code",
   "execution_count": 95,
   "metadata": {},
   "outputs": [],
   "source": [
    "X_train04=X_train04.astype('float32')/255\n",
    "X_test04=X_test04.astype('float32')/255\n",
    "y_train04=to_categorical(y_train04)\n",
    "y_test04=to_categorical(y_test04)"
   ]
  },
  {
   "cell_type": "code",
   "execution_count": 96,
   "metadata": {},
   "outputs": [
    {
     "name": "stdout",
     "output_type": "stream",
     "text": [
      "Train on 5796 samples, validate on 1449 samples\n",
      "Epoch 1/10\n",
      "5796/5796 [==============================] - 1s 250us/step - loss: 9.7400 - acc: 0.2755 - val_loss: 9.6662 - val_acc: 0.3761\n",
      "Epoch 2/10\n",
      "5796/5796 [==============================] - 0s 66us/step - loss: nan - acc: 0.3188 - val_loss: nan - val_acc: 0.1967\n",
      "Epoch 3/10\n",
      "5796/5796 [==============================] - 0s 67us/step - loss: nan - acc: 0.1824 - val_loss: nan - val_acc: 0.1967\n",
      "Epoch 4/10\n",
      "5796/5796 [==============================] - 0s 44us/step - loss: nan - acc: 0.1824 - val_loss: nan - val_acc: 0.1967\n",
      "Epoch 5/10\n",
      "5796/5796 [==============================] - 0s 47us/step - loss: nan - acc: 0.1824 - val_loss: nan - val_acc: 0.1967\n",
      "Epoch 6/10\n",
      "5796/5796 [==============================] - 1s 99us/step - loss: nan - acc: 0.1824 - val_loss: nan - val_acc: 0.1967\n",
      "Epoch 7/10\n",
      "5796/5796 [==============================] - 0s 53us/step - loss: nan - acc: 0.1824 - val_loss: nan - val_acc: 0.1967\n",
      "Epoch 8/10\n",
      "5796/5796 [==============================] - 0s 46us/step - loss: nan - acc: 0.1824 - val_loss: nan - val_acc: 0.1967\n",
      "Epoch 9/10\n",
      "5796/5796 [==============================] - 0s 76us/step - loss: nan - acc: 0.1824 - val_loss: nan - val_acc: 0.1967\n",
      "Epoch 10/10\n",
      "5796/5796 [==============================] - 0s 81us/step - loss: nan - acc: 0.1824 - val_loss: nan - val_acc: 0.1967\n"
     ]
    },
    {
     "data": {
      "text/plain": [
       "<keras.callbacks.History at 0x23ff47558d0>"
      ]
     },
     "execution_count": 96,
     "metadata": {},
     "output_type": "execute_result"
    }
   ],
   "source": [
    "model.fit(X_train04,y_train04,epochs=10,batch_size=50,validation_data=(X_test04,y_test04),callbacks=[history])"
   ]
  },
  {
   "cell_type": "code",
   "execution_count": 13,
   "metadata": {},
   "outputs": [
    {
     "name": "stdout",
     "output_type": "stream",
     "text": [
      "1449/1449 [==============================] - 0s 36us/step\n",
      "test_acc: 0.18495514153858314\n",
      "test_loss: nan\n"
     ]
    }
   ],
   "source": [
    "test_loss,test_acc=model.evaluate(X_test04,y_test04)\n",
    "print(\"test_acc:\",test_acc)\n",
    "print(\"test_loss:\",test_loss)"
   ]
  },
  {
   "cell_type": "code",
   "execution_count": 14,
   "metadata": {},
   "outputs": [
    {
     "data": {
      "image/png": "[encoded data removed]",
      "text/plain": [
       "<Figure size 432x288 with 1 Axes>"
      ]
     },
     "metadata": {
      "needs_background": "light"
     },
     "output_type": "display_data"
    }
   ],
   "source": [
    "history.loss_plot('epoch')"
   ]
  },
  {
   "cell_type": "code",
   "execution_count": null,
   "metadata": {},
   "outputs": [],
   "source": []
  }
 ],
 "metadata": {
  "kernelspec": {
   "display_name": "'Python Interactive'",
   "language": "python",
   "name": "5110b087-2493-4c4b-923a-f91a8704107c"
  },
  "language_info": {
   "codemirror_mode": {
    "name": "ipython",
    "version": 3
   },
   "file_extension": ".py",
   "mimetype": "text/x-python",
   "name": "python",
   "nbconvert_exporter": "python",
   "pygments_lexer": "ipython3",
   "version": "3.7.3"
  }
 },
 "nbformat": 4,
 "nbformat_minor": 4
}
