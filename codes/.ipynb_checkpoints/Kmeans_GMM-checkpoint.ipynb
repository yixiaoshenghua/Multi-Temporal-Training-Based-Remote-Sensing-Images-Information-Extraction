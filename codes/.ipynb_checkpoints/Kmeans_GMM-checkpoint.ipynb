{
 "cells": [
  {
   "cell_type": "code",
   "execution_count": 77,
   "metadata": {},
   "outputs": [],
   "source": [
    "import numpy as np\n",
    "import matplotlib.pyplot as plt\n",
    "from sklearn.cluster import KMeans\n",
    "import gdal\n",
    "import os\n",
    "import math\n",
    "import cv2\n",
    "from sklearn.mixture.gaussian_mixture import GaussianMixture"
   ]
  },
  {
   "cell_type": "code",
   "execution_count": 22,
   "metadata": {},
   "outputs": [],
   "source": [
    "# Compute MMD (maximum mean discrepancy) using numpy and scikit-learn.\n",
    "from sklearn import metrics\n",
    "\n",
    "\n",
    "def mmd_linear(X, Y):\n",
    "    \"\"\"MMD using linear kernel (i.e., k(x,y) = <x,y>)\n",
    "    Note that this is not the original linear MMD, only the reformulated and faster version.\n",
    "    The original version is:\n",
    "        def mmd_linear(X, Y):\n",
    "            XX = np.dot(X, X.T)\n",
    "            YY = np.dot(Y, Y.T)\n",
    "            XY = np.dot(X, Y.T)\n",
    "            return XX.mean() + YY.mean() - 2 * XY.mean()\n",
    "    Arguments:\n",
    "        X {[n_sample1, dim]} -- [X matrix]\n",
    "        Y {[n_sample2, dim]} -- [Y matrix]\n",
    "    Returns:\n",
    "        [scalar] -- [MMD value]\n",
    "    \"\"\"\n",
    "    delta = X.mean(0) - Y.mean(0)\n",
    "    return delta.dot(delta.T)\n",
    "\n",
    "\n",
    "def mmd_rbf(X, Y, gamma=1.0):\n",
    "    \"\"\"MMD using rbf (gaussian) kernel (i.e., k(x,y) = exp(-gamma * ||x-y||^2 / 2))\n",
    "    Arguments:\n",
    "        X {[n_sample1, dim]} -- [X matrix]\n",
    "        Y {[n_sample2, dim]} -- [Y matrix]\n",
    "    Keyword Arguments:\n",
    "        gamma {float} -- [kernel parameter] (default: {1.0})\n",
    "    Returns:\n",
    "        [scalar] -- [MMD value]\n",
    "    \"\"\"\n",
    "    XX = metrics.pairwise.rbf_kernel(X, X, gamma)\n",
    "    YY = metrics.pairwise.rbf_kernel(Y, Y, gamma)\n",
    "    XY = metrics.pairwise.rbf_kernel(X, Y, gamma)\n",
    "    return XX.mean() + YY.mean() - 2 * XY.mean()\n",
    "\n",
    "\n",
    "def mmd_poly(X, Y, degree=2, gamma=1, coef0=0):\n",
    "    \"\"\"MMD using polynomial kernel (i.e., k(x,y) = (gamma <X, Y> + coef0)^degree)\n",
    "    Arguments:\n",
    "        X {[n_sample1, dim]} -- [X matrix]\n",
    "        Y {[n_sample2, dim]} -- [Y matrix]\n",
    "    Keyword Arguments:\n",
    "        degree {int} -- [degree] (default: {2})\n",
    "        gamma {int} -- [gamma] (default: {1})\n",
    "        coef0 {int} -- [constant item] (default: {0})\n",
    "    Returns:\n",
    "        [scalar] -- [MMD value]\n",
    "    \"\"\"\n",
    "    XX = metrics.pairwise.polynomial_kernel(X, X, degree, gamma, coef0)\n",
    "    YY = metrics.pairwise.polynomial_kernel(Y, Y, degree, gamma, coef0)\n",
    "    XY = metrics.pairwise.polynomial_kernel(X, Y, degree, gamma, coef0)\n",
    "    return XX.mean() + YY.mean() - 2 * XY.mean()\n",
    "\n",
    "\n",
    "\n"
   ]
  },
  {
   "cell_type": "code",
   "execution_count": 5,
   "metadata": {},
   "outputs": [],
   "source": [
    "# 读取数据\n",
    "def readimg(name):\n",
    "    img = gdal.Open(os.path.join(filepath, name))\n",
    "    img_b = img.GetRasterBand(1).ReadAsArray()\n",
    "    img_g = img.GetRasterBand(2).ReadAsArray()\n",
    "    img_r = img.GetRasterBand(3).ReadAsArray()\n",
    "    img_n = img.GetRasterBand(4).ReadAsArray()\n",
    "    img = np.dstack((img_b,img_g,img_r,img_n))\n",
    "    print(img.shape)\n",
    "    width=img.shape[0]\n",
    "    height=img.shape[1]\n",
    "    img.resize((img.shape[0]*img.shape[1],4))\n",
    "    return img"
   ]
  },
  {
   "cell_type": "code",
   "execution_count": 12,
   "metadata": {},
   "outputs": [],
   "source": [
    "# 数据分布可视化\n",
    "def plotDist(data,name='',range=None):\n",
    "    plt.hist(data[:,2], bins=256, facecolor='r', edgecolor='r', alpha=0.2)#bins=256\n",
    "    plt.hist(data[:,1], bins=256, facecolor='g', edgecolor='g', alpha=0.2)\n",
    "    plt.hist(data[:,0], bins=256, facecolor='b', edgecolor='b', alpha=0.2)\n",
    "    plt.title(name+\" distribution\")\n",
    "    plt.savefig(r\"E:\\project\\imgs\\\\\"+name+\"distribution.png\",dpi=400)\n",
    "    plt.show()"
   ]
  },
  {
   "cell_type": "code",
   "execution_count": 70,
   "metadata": {},
   "outputs": [],
   "source": [
    "def param(X,y):\n",
    "    n=np.unique(y).shape[0]\n",
    "    means=np.zeros((n,3),dtype=np.float64)\n",
    "    var=np.zeros((n,3),dtype=np.float64)\n",
    "    X_c=[]\n",
    "    for i in range(n):\n",
    "        X_c.append([])\n",
    "    for i in range(10000):\n",
    "        X_c[y[i]].append(X[i,:])\n",
    "    for i in range(n):\n",
    "        a=np.array(X_c[i])\n",
    "        for j in range(3):\n",
    "            means[i,j]=a[:,j].mean()\n",
    "            var[i,j]=a[:,j].std()\n",
    "    return means,var"
   ]
  },
  {
   "cell_type": "code",
   "execution_count": 26,
   "metadata": {},
   "outputs": [
    {
     "name": "stdout",
     "output_type": "stream",
     "text": [
      "(5415, 5451, 4)\n",
      "(5415, 5451, 4)\n",
      "(5415, 5451, 4)\n",
      "(5415, 5451, 4)\n",
      "(5415, 5451, 4)\n",
      "(5415, 5451, 4)\n",
      "(5415, 5451, 4)\n"
     ]
    }
   ],
   "source": [
    "filepath = r\"E:\\project\\images\\researchImage\\region\"\n",
    "data07 = readimg(\"070727.tif\")\n",
    "data10 = readimg(\"100818.tif\")\n",
    "data11 = readimg(\"110608.tif\")\n",
    "data13 = readimg(\"130916.tif\")\n",
    "data15 = readimg(\"150729.tif\")\n",
    "data17 = readimg(\"170823.tif\")\n",
    "data18 = readimg(\"181029.tif\")"
   ]
  },
  {
   "cell_type": "code",
   "execution_count": 110,
   "metadata": {},
   "outputs": [],
   "source": [
    "data=data10[:,:3]\n"
   ]
  },
  {
   "cell_type": "code",
   "execution_count": 81,
   "metadata": {
    "jupyter": {
     "source_hidden": true
    }
   },
   "outputs": [
    {
     "data": {
      "text/plain": [
       "array([[3028, 2419],\n",
       "       [5272, 1599],\n",
       "       [1881, 3996],\n",
       "       ...,\n",
       "       [1134,  543],\n",
       "       [5370, 5268],\n",
       "       [4891, 2095]])"
      ]
     },
     "execution_count": 81,
     "metadata": {},
     "output_type": "execute_result"
    }
   ],
   "source": [
    "# 采样矩阵\n",
    "sample = np.random.randint(0,5400,size=[100000,2])\n",
    "sample"
   ]
  },
  {
   "cell_type": "code",
   "execution_count": 111,
   "metadata": {},
   "outputs": [
    {
     "data": {
      "text/plain": [
       "(100000, 3)"
      ]
     },
     "execution_count": 111,
     "metadata": {},
     "output_type": "execute_result"
    }
   ],
   "source": [
    "X=[]\n",
    "for _ in sample:\n",
    "    X.append(data[_[0]*_[1],:])\n",
    "X=np.array(X)\n",
    "X.shape"
   ]
  },
  {
   "cell_type": "code",
   "execution_count": 112,
   "metadata": {},
   "outputs": [
    {
     "data": {
      "image/png": "[encoded data removed]",
      "text/plain": [
       "<Figure size 432x288 with 1 Axes>"
      ]
     },
     "metadata": {
      "needs_background": "light"
     },
     "output_type": "display_data"
    }
   ],
   "source": [
    "plotDist(X,'10sample')"
   ]
  },
  {
   "cell_type": "code",
   "execution_count": 113,
   "metadata": {},
   "outputs": [
    {
     "name": "stdout",
     "output_type": "stream",
     "text": [
      "before sample and after sample MMD: 294.5062241552141\n"
     ]
    }
   ],
   "source": [
    "# 衡量采样前后距离\n",
    "print(\"before sample and after sample MMD:\",mmd_linear(data,X))"
   ]
  },
  {
   "cell_type": "code",
   "execution_count": 114,
   "metadata": {},
   "outputs": [],
   "source": [
    "gmm=GaussianMixture(n_components=10).fit(X)\n",
    "y_pred=gmm.predict(X)"
   ]
  },
  {
   "cell_type": "code",
   "execution_count": 115,
   "metadata": {},
   "outputs": [],
   "source": [
    "mean07,var07=param(X,y_pred)"
   ]
  },
  {
   "cell_type": "code",
   "execution_count": 116,
   "metadata": {},
   "outputs": [],
   "source": [
    "def gd(x, mu=0, sigma=1):\n",
    "    left = 1 / (np.sqrt(2 * math.pi) * np.sqrt(sigma))\n",
    "    right = np.exp(-(x - mu)**2 / (2 * sigma))\n",
    "    return left * right"
   ]
  },
  {
   "cell_type": "code",
   "execution_count": 117,
   "metadata": {},
   "outputs": [
    {
     "data": {
      "image/png": "[encoded data removed]",
      "text/plain": [
       "<Figure size 432x288 with 1 Axes>"
      ]
     },
     "metadata": {
      "needs_background": "light"
     },
     "output_type": "display_data"
    }
   ],
   "source": [
    "color=['honeydew','tomato','papayawhip','cyan','greenyellow','orangered','dimgray','lavender','mintcream','maroon']\n",
    "y=np.zeros((2560,10))\n",
    "for i in range(10):\n",
    "    x=np.arange(0,256,0.1)\n",
    "    y[:,i]=gd(x,mean07[i,0],var07[i,0])\n",
    "    plt.plot(x,y[:,i],color[i],'-.')\n",
    "plt.plot(x,np.sum(y,axis=1),'b',linewidth=5)\n",
    "plt.title('blue')\n",
    "plt.show()"
   ]
  },
  {
   "cell_type": "code",
   "execution_count": 72,
   "metadata": {},
   "outputs": [
    {
     "data": {
      "text/plain": [
       "(array([[111.07390218, 119.34630489, 138.40092824],\n",
       "        [ 31.20156863,  37.72313725,  55.00078431],\n",
       "        [ 70.10890395,  86.05047908, 105.85019864],\n",
       "        [152.01713062, 152.17130621, 167.49892934],\n",
       "        [ 96.38812785, 120.29223744, 164.23744292],\n",
       "        [ 34.63920751,  60.63920751,  76.26485923]]),\n",
       " array([[26.73932838, 27.29264158, 28.40220108],\n",
       "        [10.66903884, 12.81051246, 13.45292444],\n",
       "        [19.00287952, 17.12297667, 18.433543  ],\n",
       "        [49.57122065, 55.01150932, 54.37117162],\n",
       "        [18.03370881, 21.92966099, 36.51118881],\n",
       "        [13.80586257, 13.80586257, 14.36804783]]))"
      ]
     },
     "execution_count": 72,
     "metadata": {},
     "output_type": "execute_result"
    }
   ],
   "source": [
    "mean07"
   ]
  },
  {
   "cell_type": "code",
   "execution_count": null,
   "metadata": {},
   "outputs": [],
   "source": []
  }
 ],
 "metadata": {
  "kernelspec": {
   "display_name": "'Python Interactive'",
   "language": "python",
   "name": "5110b087-2493-4c4b-923a-f91a8704107c"
  },
  "language_info": {
   "codemirror_mode": {
    "name": "ipython",
    "version": 3
   },
   "file_extension": ".py",
   "mimetype": "text/x-python",
   "name": "python",
   "nbconvert_exporter": "python",
   "pygments_lexer": "ipython3",
   "version": "3.7.3"
  }
 },
 "nbformat": 4,
 "nbformat_minor": 4
}
