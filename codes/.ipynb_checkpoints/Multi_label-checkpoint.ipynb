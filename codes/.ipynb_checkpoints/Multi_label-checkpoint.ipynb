{
 "cells": [
  {
   "cell_type": "code",
   "execution_count": 30,
   "metadata": {},
   "outputs": [],
   "source": [
    "#coding=utf-8\n",
    "import matplotlib.pyplot as plt\n",
    "import numpy as np  \n",
    "from sklearn.model_selection import train_test_split\n",
    "import keras\n",
    "from keras import models\n",
    "from keras.models import Sequential  \n",
    "from keras.layers import *  \n",
    "from keras.utils.np_utils import to_categorical  \n",
    "from keras.models import Model\n",
    "import cv2\n",
    "import os\n",
    "import gdal\n",
    "import tensorflow as tf\n",
    "from sklearn import tree, svm, naive_bayes,neighbors\n",
    "from sklearn.ensemble import BaggingClassifier, AdaBoostClassifier, RandomForestClassifier,  GradientBoostingClassifier"
   ]
  },
  {
   "cell_type": "code",
   "execution_count": 2,
   "metadata": {
    "jupyter": {
     "source_hidden": true
    }
   },
   "outputs": [],
   "source": [
    "class LossHistory(keras.callbacks.Callback):\n",
    "    def on_train_begin(self, logs={}):\n",
    "        self.losses = {'batch':[], 'epoch':[]}\n",
    "        self.accuracy = {'batch':[], 'epoch':[]}\n",
    "        self.val_loss = {'batch':[], 'epoch':[]}\n",
    "        self.val_acc = {'batch':[], 'epoch':[]}\n",
    "\n",
    "    def on_batch_end(self, batch, logs={}):\n",
    "        self.losses['batch'].append(logs.get('loss'))\n",
    "        self.accuracy['batch'].append(logs.get('acc'))\n",
    "        self.val_loss['batch'].append(logs.get('val_loss'))\n",
    "        self.val_acc['batch'].append(logs.get('val_acc'))\n",
    "\n",
    "    def on_epoch_end(self, batch, logs={}):\n",
    "        self.losses['epoch'].append(logs.get('loss'))\n",
    "        self.accuracy['epoch'].append(logs.get('acc'))\n",
    "        self.val_loss['epoch'].append(logs.get('val_loss'))\n",
    "        self.val_acc['epoch'].append(logs.get('val_acc'))\n",
    "\n",
    "    def loss_plot(self, loss_type):\n",
    "        iters = range(len(self.losses[loss_type]))\n",
    "        plt.figure()\n",
    "        # acc\n",
    "        plt.plot(iters, self.accuracy[loss_type], 'r', label='train acc')\n",
    "        # loss\n",
    "        plt.plot(iters, self.losses[loss_type], 'g', label='train loss')\n",
    "        if loss_type == 'epoch':\n",
    "            # val_acc\n",
    "            plt.plot(iters, self.val_acc[loss_type], 'b', label='val acc')\n",
    "            # val_loss\n",
    "            plt.plot(iters, self.val_loss[loss_type], 'k', label='val loss')\n",
    "        plt.grid(True)\n",
    "        plt.xlabel(loss_type)\n",
    "        plt.ylabel('acc-loss')\n",
    "        plt.legend(loc=\"upper right\")\n",
    "        plt.show()\n",
    "history=LossHistory()"
   ]
  },
  {
   "cell_type": "code",
   "execution_count": 9,
   "metadata": {},
   "outputs": [],
   "source": [
    "def gendata(data,rate,num_0,num_1,num_2,num_3):\n",
    "    X = data[:,-4:]\n",
    "#     num_0=water   \n",
    "#     num_1=building\n",
    "#     num_2=vege\n",
    "#     num_3=road\n",
    "    label_0=np.zeros((num_0))\n",
    "    label_1=np.ones((num_1))\n",
    "    label_2=np.ones((num_2))+1\n",
    "    label_3=np.ones((num_3))+2\n",
    "    labels=np.concatenate((label_0,label_1,label_2,label_3),axis=0)\n",
    "    labels=labels.reshape(labels.shape[0],1)\n",
    "    train_dataset=np.concatenate((X,labels),axis=1)\n",
    "    np.random.shuffle(train_dataset)\n",
    "    train_dataset=train_dataset[:,:]\n",
    "    #split train_data and test_data\n",
    "    X=train_dataset[:,:4]\n",
    "    labels=train_dataset[:,-1:]\n",
    "    X_train, X_test, y_train, y_test = train_test_split(X, labels, test_size=0.98)\n",
    "    print(\"X_train shape:\",X_train.shape)\n",
    "    print(\"X_test shape:\",X_test.shape)\n",
    "    print(\"y_train shape:\",y_train.shape)\n",
    "    print(\"y_test shape:\",y_test.shape)\n",
    "    return X_train,X_test,y_train,y_test"
   ]
  },
  {
   "cell_type": "code",
   "execution_count": 21,
   "metadata": {},
   "outputs": [],
   "source": [
    "clfs = {\n",
    "         'decision_tree':tree.DecisionTreeClassifier(),\n",
    "         #'naive_gaussian': naive_bayes.GaussianNB(),\n",
    "         #'naive_mul':naive_bayes.MultinomialNB(),\n",
    "         'K_neighbor' : neighbors.KNeighborsClassifier(),\n",
    "         'bagging_knn' : BaggingClassifier(neighbors.KNeighborsClassifier(), max_samples=0.5,max_features=0.5),\n",
    "         'bagging_tree': BaggingClassifier(tree.DecisionTreeClassifier(), max_samples=0.5,max_features=0.5),\n",
    "         'random_forest' : RandomForestClassifier(n_estimators=50),\n",
    "         'gradient_boost' : GradientBoostingClassifier(n_estimators=50, learning_rate=1.0,max_depth=1, random_state=0)\n",
    "       }\n",
    "\n",
    "def try_different_method(clf,X_train,X_test,y_train,y_test):\n",
    "    clf.fit(X_train,y_train.ravel())\n",
    "    score = clf.score(X_test,y_test.ravel())\n",
    "    print('the score is :', score)"
   ]
  },
  {
   "cell_type": "code",
   "execution_count": 11,
   "metadata": {},
   "outputs": [],
   "source": [
    "data04 = np.loadtxt(open(r\"E:\\project\\images\\researchImage\\csv\\040121label.csv\"),delimiter=',',dtype=np.float,skiprows=21)\n",
    "data00 = np.loadtxt(open(r\"E:\\project\\images\\researchImage\\csv\\000326label.csv\"),delimiter=',',dtype=np.float,skiprows=21)\n",
    "data09 = np.loadtxt(open(r\"E:\\project\\images\\researchImage\\csv\\090618label.csv\"),delimiter=',',dtype=np.float,skiprows=21)\n",
    "data18 = np.loadtxt(open(r\"E:\\project\\images\\researchImage\\csv\\181218label.csv\"),delimiter=',',dtype=np.float,skiprows=21)"
   ]
  },
  {
   "cell_type": "code",
   "execution_count": 12,
   "metadata": {},
   "outputs": [
    {
     "name": "stdout",
     "output_type": "stream",
     "text": [
      "X_train shape: (1811, 4)\n",
      "X_test shape: (88748, 4)\n",
      "y_train shape: (1811, 1)\n",
      "y_test shape: (88748, 1)\n",
      "X_train shape: (1862, 4)\n",
      "X_test shape: (91243, 4)\n",
      "y_train shape: (1862, 1)\n",
      "y_test shape: (91243, 1)\n",
      "X_train shape: (1783, 4)\n",
      "X_test shape: (87371, 4)\n",
      "y_train shape: (1783, 1)\n",
      "y_test shape: (87371, 1)\n",
      "X_train shape: (1799, 4)\n",
      "X_test shape: (88171, 4)\n",
      "y_train shape: (1799, 1)\n",
      "y_test shape: (88171, 1)\n"
     ]
    }
   ],
   "source": [
    "X_train00,X_test00,y_train00,y_test00=gendata(data00,0.98,24648,16721,25500,23690)\n",
    "X_train04,X_test04,y_train04,y_test04=gendata(data04,0.98,25772,16783,27704,22846)\n",
    "X_train09,X_test09,y_train09,y_test09=gendata(data09,0.98,22982,17632,25326,23214)\n",
    "X_train18,X_test18,y_train18,y_test18=gendata(data18,0.98,24141,19191,25404,21234)"
   ]
  },
  {
   "cell_type": "code",
   "execution_count": 19,
   "metadata": {},
   "outputs": [],
   "source": [
    "X_train=np.concatenate((X_train00[:450,:],X_train04[450:900,:],X_train09[900:1350,:],X_train18[1350:,:]),axis=0)\n",
    "y_train=np.concatenate((y_train00[:450,:],y_train04[450:900,:],y_train09[900:1350,:],y_train18[1350:,:]),axis=0)"
   ]
  },
  {
   "cell_type": "code",
   "execution_count": 23,
   "metadata": {},
   "outputs": [
    {
     "name": "stdout",
     "output_type": "stream",
     "text": [
      "00 year\n",
      "the classifier is : decision_tree\n",
      "the score is : 0.9046964438635237\n",
      "the classifier is : K_neighbor\n",
      "the score is : 0.9167755893090549\n",
      "the classifier is : bagging_knn\n",
      "the score is : 0.9057781583810339\n",
      "the classifier is : bagging_tree\n",
      "the score is : 0.8969892279262631\n",
      "the classifier is : random_forest\n",
      "the score is : 0.9171248929553342\n",
      "the classifier is : gradient_boost\n",
      "the score is : 0.8925271555415333\n"
     ]
    }
   ],
   "source": [
    "#00  \n",
    "print(\"00 year\")\n",
    "for clf_key in clfs.keys():\n",
    "    print('the classifier is :',clf_key)\n",
    "    clf = clfs[clf_key]\n",
    "    try_different_method(clf,X_train,X_test00,y_train,y_test00)"
   ]
  },
  {
   "cell_type": "code",
   "execution_count": 24,
   "metadata": {},
   "outputs": [
    {
     "name": "stdout",
     "output_type": "stream",
     "text": [
      "04 year\n",
      "the classifier is : decision_tree\n",
      "the score is : 0.9137029689948818\n",
      "the classifier is : K_neighbor\n",
      "the score is : 0.9347675986103043\n",
      "the classifier is : bagging_knn\n",
      "the score is : 0.9339894567254474\n",
      "the classifier is : bagging_tree\n",
      "the score is : 0.9138564054228817\n",
      "the classifier is : random_forest\n",
      "the score is : 0.9412667273105882\n",
      "the classifier is : gradient_boost\n",
      "the score is : 0.9162346700568811\n"
     ]
    }
   ],
   "source": [
    "#04\n",
    "print(\"04 year\")\n",
    "for clf_key in clfs.keys():\n",
    "    print('the classifier is :',clf_key)\n",
    "    clf = clfs[clf_key]\n",
    "    try_different_method(clf,X_train,X_test04,y_train,y_test04)"
   ]
  },
  {
   "cell_type": "code",
   "execution_count": 25,
   "metadata": {},
   "outputs": [
    {
     "name": "stdout",
     "output_type": "stream",
     "text": [
      "09 year\n",
      "the classifier is : decision_tree\n",
      "the score is : 0.8835998214510535\n",
      "the classifier is : K_neighbor\n",
      "the score is : 0.8962470384910325\n",
      "the classifier is : bagging_knn\n",
      "the score is : 0.8432775177118266\n",
      "the classifier is : bagging_tree\n",
      "the score is : 0.8555584805026839\n",
      "the classifier is : random_forest\n",
      "the score is : 0.9032974327866226\n",
      "the classifier is : gradient_boost\n",
      "the score is : 0.8831877854207918\n"
     ]
    }
   ],
   "source": [
    "print(\"09 year\")\n",
    "for clf_key in clfs.keys():\n",
    "    print('the classifier is :',clf_key)\n",
    "    clf = clfs[clf_key]\n",
    "    try_different_method(clf,X_train,X_test09,y_train,y_test09)"
   ]
  },
  {
   "cell_type": "code",
   "execution_count": 26,
   "metadata": {},
   "outputs": [
    {
     "name": "stdout",
     "output_type": "stream",
     "text": [
      "18 year\n",
      "the classifier is : decision_tree\n",
      "the score is : 0.9057626657290946\n",
      "the classifier is : K_neighbor\n",
      "the score is : 0.9322679792675597\n",
      "the classifier is : bagging_knn\n",
      "the score is : 0.9060802304612627\n",
      "the classifier is : bagging_tree\n",
      "the score is : 0.8908371233171904\n",
      "the classifier is : random_forest\n",
      "the score is : 0.9231947012056119\n",
      "the classifier is : gradient_boost\n",
      "the score is : 0.9018384729673021\n"
     ]
    }
   ],
   "source": [
    "print(\"18 year\")\n",
    "for clf_key in clfs.keys():\n",
    "    print('the classifier is :',clf_key)\n",
    "    clf = clfs[clf_key]\n",
    "    try_different_method(clf,X_train,X_test18,y_train,y_test18)"
   ]
  },
  {
   "cell_type": "code",
   "execution_count": 58,
   "metadata": {},
   "outputs": [],
   "source": [
    "filepath = r\"E:\\project\\images\\researchImage\\resize\"\n",
    "os.chdir(filepath)\n",
    "# read the images\n",
    "def readimg(name):\n",
    "    img = gdal.Open(os.path.join(filepath, name))\n",
    "    img_b = img.GetRasterBand(1).ReadAsArray()\n",
    "    img_g = img.GetRasterBand(2).ReadAsArray()\n",
    "    img_r = img.GetRasterBand(3).ReadAsArray()\n",
    "    img_n = img.GetRasterBand(4).ReadAsArray()\n",
    "    img = np.dstack((img_b,img_g,img_r,img_n))\n",
    "    print(img.shape)\n",
    "    width=img.shape[0]\n",
    "    height=img.shape[1]\n",
    "    img.resize((img.shape[0]*img.shape[1],4))\n",
    "    return img,width,height"
   ]
  },
  {
   "cell_type": "code",
   "execution_count": 59,
   "metadata": {},
   "outputs": [
    {
     "name": "stdout",
     "output_type": "stream",
     "text": [
      "(1241, 1474, 4)\n"
     ]
    }
   ],
   "source": [
    "img1,w,h=readimg(\"181218.tif\")\n",
    "clf=RandomForestClassifier(n_estimators=50)\n",
    "clf.fit(X_train,y_train.ravel())\n",
    "img1_pre=clf.predict(img1)"
   ]
  },
  {
   "cell_type": "code",
   "execution_count": 60,
   "metadata": {},
   "outputs": [
    {
     "data": {
      "text/plain": [
       "(1829234,)"
      ]
     },
     "execution_count": 60,
     "metadata": {},
     "output_type": "execute_result"
    }
   ],
   "source": [
    "img1_pre.shape"
   ]
  },
  {
   "cell_type": "code",
   "execution_count": 61,
   "metadata": {},
   "outputs": [
    {
     "data": {
      "text/plain": [
       "<matplotlib.image.AxesImage at 0x18467304b38>"
      ]
     },
     "execution_count": 61,
     "metadata": {},
     "output_type": "execute_result"
    },
    {
     "data": {
      "image/png": "[encoded data removed]",
      "text/plain": [
       "<Figure size 432x288 with 1 Axes>"
      ]
     },
     "metadata": {
      "needs_background": "light"
     },
     "output_type": "display_data"
    }
   ],
   "source": [
    "img1_pre.resize(w,h)\n",
    "plt.imshow(img1_pre)\n"
   ]
  },
  {
   "cell_type": "code",
   "execution_count": 62,
   "metadata": {},
   "outputs": [
    {
     "data": {
      "text/plain": [
       "True"
      ]
     },
     "execution_count": 62,
     "metadata": {},
     "output_type": "execute_result"
    }
   ],
   "source": [
    "cv2.imwrite(r\"E:\\project\\images\\researchImage\\predict\\181218.tif\",img1_pre)"
   ]
  },
  {
   "cell_type": "code",
   "execution_count": null,
   "metadata": {},
   "outputs": [],
   "source": []
  }
 ],
 "metadata": {
  "kernelspec": {
   "display_name": "'Python Interactive'",
   "language": "python",
   "name": "5110b087-2493-4c4b-923a-f91a8704107c"
  },
  "language_info": {
   "codemirror_mode": {
    "name": "ipython",
    "version": 3
   },
   "file_extension": ".py",
   "mimetype": "text/x-python",
   "name": "python",
   "nbconvert_exporter": "python",
   "pygments_lexer": "ipython3",
   "version": "3.7.3"
  }
 },
 "nbformat": 4,
 "nbformat_minor": 4
}
